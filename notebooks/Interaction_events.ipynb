{
 "cells": [
  {
   "cell_type": "markdown",
   "id": "e79ae233",
   "metadata": {},
   "source": [
    "# Description\n",
    "\n",
    "In this notebook we can explore the characteristics of interaction events, such as their lengths, the associated ball displacements, etc.\n",
    "\n",
    "# Imports"
   ]
  },
  {
   "cell_type": "code",
   "execution_count": null,
   "id": "f3406794",
   "metadata": {},
   "outputs": [],
   "source": [
    "from pathlib import Path\n",
    "import sys\n",
    "\n",
    "import seaborn as sns\n",
    "import matplotlib.pyplot as plt\n",
    "import numpy as np\n",
    "import pandas as pd\n",
    "\n",
    "src_path = Path.cwd().parent / \"src\"\n",
    "if src_path not in sys.path:\n",
    "    sys.path.append(str(src_path))\n",
    "\n",
    "from Ballpushing_utils import Experiment, Fly\n",
    "\n",
    "from utils_behavior import Processing"
   ]
  },
  {
   "cell_type": "markdown",
   "id": "81875e76",
   "metadata": {},
   "source": [
    "# Generate a Fly object"
   ]
  },
  {
   "cell_type": "code",
   "execution_count": null,
   "id": "40802dff",
   "metadata": {},
   "outputs": [],
   "source": [
    "ExampleFly_path = Path(\n",
    "    \"/mnt/upramdya_data/MD/MultiMazeRecorder/Videos/231130_TNT_Fine_2_Videos_Tracked/arena2/corridor5\"\n",
    ")\n",
    "\n",
    "ExampleFly = Fly(ExampleFly_path, as_individual=True)"
   ]
  },
  {
   "cell_type": "markdown",
   "id": "3fed3264",
   "metadata": {},
   "source": [
    "## Get the list of interaction events using the above config parameters"
   ]
  },
  {
   "cell_type": "code",
   "execution_count": null,
   "id": "0b811347",
   "metadata": {},
   "outputs": [],
   "source": [
    "interaction_events = ExampleFly.tracking_data.interaction_events[0][0]\n",
    "\n",
    "interaction_events"
   ]
  },
  {
   "cell_type": "code",
   "execution_count": null,
   "id": "eb83121a",
   "metadata": {},
   "outputs": [],
   "source": [
    "# Take the 3rd element of each interaction event (duration) and average it\n",
    "\n",
    "interaction_durations = [event[2] for event in interaction_events]\n",
    "\n",
    "average_interaction_duration = sum(interaction_durations) / len(interaction_durations)\n",
    "\n",
    "average_duration_time = average_interaction_duration / ExampleFly.experiment.fps\n",
    "\n",
    "print(f\"Average interaction duration: {average_duration_time:.2f} seconds or {average_interaction_duration:.2f} frames\")"
   ]
  },
  {
   "cell_type": "markdown",
   "id": "89952233",
   "metadata": {},
   "source": [
    "Here we have an idea of the average duration of an interaction between the fly and the ball. Another interesting metric would be to look at the average duration of events after the event onset, as it's the critical point for UMAP"
   ]
  },
  {
   "cell_type": "code",
   "execution_count": null,
   "id": "e144075a",
   "metadata": {},
   "outputs": [],
   "source": [
    "interaction_onsets = ExampleFly.tracking_data.interactions_onsets[0, 0]\n",
    "\n",
    "interaction_onsets"
   ]
  },
  {
   "cell_type": "code",
   "execution_count": null,
   "id": "c5e75a1f",
   "metadata": {},
   "outputs": [],
   "source": [
    "# Compute the adjusted duration for each event, from the interaction onset to the end of the interaction\n",
    "\n",
    "adjusted_interaction_durations = []\n",
    "\n",
    "# Ensure interaction_onsets and interaction_events have the same length\n",
    "if len(interaction_onsets) != len(interaction_events):\n",
    "    raise ValueError(\"Mismatch between the number of interaction onsets and interaction events.\")\n",
    "\n",
    "for i, event in enumerate(interaction_events):\n",
    "    try:\n",
    "        start_time = interaction_onsets[i]\n",
    "        end_time = event[1]\n",
    "        if start_time is None or end_time is None:\n",
    "            raise ValueError(f\"Invalid start or end time for event {i}.\")\n",
    "        adjusted_duration = end_time - start_time\n",
    "        adjusted_interaction_durations.append(adjusted_duration)\n",
    "    except Exception as e:\n",
    "        print(f\"Error processing event {i}: {e}\")\n",
    "\n",
    "# Calculate the average adjusted interaction duration\n",
    "if adjusted_interaction_durations:\n",
    "    average_adjusted_interaction_duration = sum(adjusted_interaction_durations) / len(adjusted_interaction_durations)\n",
    "\n",
    "    average_adjusted_interaction_duration_time = average_adjusted_interaction_duration / ExampleFly.experiment.fps\n",
    "    print(f\"Average adjusted interaction duration: {average_adjusted_interaction_duration_time:.2f} seconds or {average_adjusted_interaction_duration:.2f} frames\")\n",
    "else:\n",
    "    print(\"No valid adjusted interaction durations to calculate an average.\")"
   ]
  },
  {
   "cell_type": "markdown",
   "id": "d29dd7a9",
   "metadata": {},
   "source": [
    "So here we see on average, an event lasts 212 frames. So maximum standardized contact length should be around 200"
   ]
  },
  {
   "cell_type": "markdown",
   "id": "313578b4",
   "metadata": {},
   "source": [
    "# Test on full experiment"
   ]
  },
  {
   "cell_type": "markdown",
   "id": "aabd7220",
   "metadata": {},
   "source": [
    "Flies can be quite different from one another so we're gonna generate a concatenated list of all events for one experiment."
   ]
  },
  {
   "cell_type": "code",
   "execution_count": null,
   "id": "e24f5db1",
   "metadata": {},
   "outputs": [],
   "source": [
    "ExampleExperiment_path = Path(\n",
    "    \"/mnt/upramdya_data/MD/MultiMazeRecorder/Videos/231130_TNT_Fine_2_Videos_Tracked/\"\n",
    ")\n",
    "ExampleExperiment = Experiment(\n",
    "    ExampleExperiment_path,\n",
    ")"
   ]
  },
  {
   "cell_type": "code",
   "execution_count": null,
   "id": "4fa15547",
   "metadata": {},
   "outputs": [],
   "source": [
    "# For each fly, get the adjusted interaction durations\n",
    "adjusted_interaction_durations_all_flies = []\n",
    "\n",
    "for fly in ExampleExperiment.flies:\n",
    "    interaction_events = fly.tracking_data.interaction_events[0][0]\n",
    "    interaction_onsets = fly.tracking_data.interactions_onsets[0, 0]\n",
    "\n",
    "    # Ensure interaction_onsets and interaction_events have the same length\n",
    "    if len(interaction_onsets) != len(interaction_events):\n",
    "        raise ValueError(\"Mismatch between the number of interaction onsets and interaction events.\")\n",
    "\n",
    "    for i, event in enumerate(interaction_events):\n",
    "        try:\n",
    "            start_time = interaction_onsets[i]\n",
    "            end_time = event[1]\n",
    "            if start_time is None or end_time is None:\n",
    "                raise ValueError(f\"Invalid start or end time for event {i}.\")\n",
    "            adjusted_duration = end_time - start_time\n",
    "            adjusted_interaction_durations.append(adjusted_duration)\n",
    "        except Exception as e:\n",
    "            print(f\"Error processing event {i}: {e}\")\n",
    "\n",
    "    # Calculate the average adjusted interaction duration\n",
    "    if adjusted_interaction_durations:\n",
    "        average_adjusted_interaction_duration = sum(adjusted_interaction_durations) / len(adjusted_interaction_durations)\n",
    "\n",
    "        average_adjusted_interaction_duration_time = average_adjusted_interaction_duration / ExampleFly.experiment.fps\n",
    "        print(\n",
    "            f\"Average adjusted interaction duration: {average_adjusted_interaction_duration_time:.2f} seconds or {average_adjusted_interaction_duration:.2f} frames\"\n",
    "        )\n",
    "\n",
    "        adjusted_interaction_durations_all_flies.append(adjusted_interaction_durations)\n",
    "    else:\n",
    "        print(\"No valid adjusted interaction durations to calculate an average.\")"
   ]
  },
  {
   "cell_type": "code",
   "execution_count": null,
   "id": "6eafe697",
   "metadata": {},
   "outputs": [],
   "source": [
    "# Get the average adjusted interaction duration across all flies\n",
    "\n",
    "if adjusted_interaction_durations_all_flies:\n",
    "    all_durations_flat = [duration for sublist in adjusted_interaction_durations_all_flies for duration in sublist]\n",
    "    average_adjusted_interaction_duration_all_flies = sum(all_durations_flat) / len(all_durations_flat)\n",
    "\n",
    "    average_adjusted_interaction_duration_time_all_flies = average_adjusted_interaction_duration_all_flies / ExampleFly.experiment.fps\n",
    "    print(\n",
    "        f\"Average adjusted interaction duration across all flies: {average_adjusted_interaction_duration_time_all_flies:.2f} seconds or {average_adjusted_interaction_duration_all_flies:.2f} frames\"\n",
    "    )\n",
    "else:\n",
    "    print(\"No valid adjusted interaction durations to calculate an average across all flies.\")"
   ]
  },
  {
   "cell_type": "code",
   "execution_count": null,
   "id": "47249258",
   "metadata": {},
   "outputs": [],
   "source": [
    "# Generate an histogram of the adjusted interaction durations\n",
    "\n",
    "plt.figure(figsize=(10, 6))\n",
    "\n",
    "sns.histplot(\n",
    "    adjusted_interaction_durations_all_flies,\n",
    "    bins=30,\n",
    "    kde=False,\n",
    "    color=\"blue\",\n",
    ")\n",
    "\n",
    "# Remove legend\n",
    "plt.legend().remove()"
   ]
  },
  {
   "cell_type": "markdown",
   "id": "369561de",
   "metadata": {},
   "source": [
    "Data is skewed, actually although the average is 200, most interactions are found at much lower value"
   ]
  },
  {
   "cell_type": "code",
   "execution_count": null,
   "id": "788747f1",
   "metadata": {},
   "outputs": [],
   "source": [
    "# Compute the median of the adjusted interaction durations\n",
    "\n",
    "median_adjusted_interaction_duration = np.median(adjusted_interaction_durations_all_flies)\n",
    "\n",
    "print(\n",
    "    f\"Median adjusted interaction duration across all flies: {median_adjusted_interaction_duration:.2f} frames\"\n",
    ")"
   ]
  },
  {
   "cell_type": "markdown",
   "id": "97a635b9",
   "metadata": {},
   "source": [
    "Let's also generate some bootstrapped confidence interval of the median"
   ]
  },
  {
   "cell_type": "code",
   "execution_count": null,
   "id": "5c3ccc1d",
   "metadata": {},
   "outputs": [],
   "source": [
    "bs_ci_median = Processing.draw_bs_ci(\n",
    "    adjusted_interaction_durations_all_flies,\n",
    "    func=np.median,\n",
    "    n_reps=1000,\n",
    ")\n",
    "\n",
    "bs_ci_median"
   ]
  },
  {
   "cell_type": "code",
   "execution_count": null,
   "id": "67b4bbab",
   "metadata": {},
   "outputs": [],
   "source": [
    "bs_ci_mean = Processing.draw_bs_ci(\n",
    "    adjusted_interaction_durations_all_flies,\n",
    "    func=np.mean,\n",
    "    n_reps=1000,\n",
    ")\n",
    "bs_ci_mean"
   ]
  },
  {
   "cell_type": "markdown",
   "id": "dd3908e4",
   "metadata": {},
   "source": [
    "Here we can see that the bootstrapped interval is super narrow around 115 for median and 210 for mean. Data being very skewed, it is likely that median is a better indicator, so 115 frames makes sense."
   ]
  },
  {
   "cell_type": "code",
   "execution_count": null,
   "id": "46a3b633",
   "metadata": {},
   "outputs": [],
   "source": [
    "# Redo the histogram with the mean and median as vertical lines\n",
    "\n",
    "plt.figure(figsize=(10, 6))\n",
    "\n",
    "sns.histplot(\n",
    "    adjusted_interaction_durations_all_flies,\n",
    "    bins=30,\n",
    "    kde=False,\n",
    "    color=\"blue\",\n",
    ")\n",
    "\n",
    "# Add mean and median lines\n",
    "\n",
    "plt.axvline(\n",
    "    x=average_adjusted_interaction_duration_all_flies,\n",
    "    color=\"red\",\n",
    "    linestyle=\"--\",\n",
    "    label=f\"Mean: {bs_ci_mean[0]:.2f} frames\",\n",
    ")\n",
    "\n",
    "plt.axvline(\n",
    "    x=median_adjusted_interaction_duration,\n",
    "    color=\"green\",\n",
    "    linestyle=\"--\",\n",
    "    label=f\"Median: {bs_ci_median[0]:.2f} frames\",\n",
    ")\n",
    "\n",
    "\n",
    "# Remove legend\n",
    "plt.legend().remove()"
   ]
  }
 ],
 "metadata": {
  "kernelspec": {
   "display_name": "tracking_analysis",
   "language": "python",
   "name": "python3"
  },
  "language_info": {
   "codemirror_mode": {
    "name": "ipython",
    "version": 3
   },
   "file_extension": ".py",
   "mimetype": "text/x-python",
   "name": "python",
   "nbconvert_exporter": "python",
   "pygments_lexer": "ipython3",
   "version": "3.12.6"
  }
 },
 "nbformat": 4,
 "nbformat_minor": 5
}
