{
 "cells": [
  {
   "cell_type": "markdown",
   "id": "e79ae233",
   "metadata": {},
   "source": [
    "# Description\n",
    "\n",
    "In this notebook we can explore the characteristics of interaction events, such as their lengths, the associated ball displacements, etc.\n",
    "\n",
    "# Imports"
   ]
  },
  {
   "cell_type": "code",
   "execution_count": 36,
   "id": "f3406794",
   "metadata": {},
   "outputs": [],
   "source": [
    "from pathlib import Path\n",
    "import sys\n",
    "\n",
    "import seaborn as sns\n",
    "import matplotlib.pyplot as plt\n",
    "import numpy as np\n",
    "import pandas as pd\n",
    "\n",
    "src_path = Path.cwd().parent / \"src\"\n",
    "if src_path not in sys.path:\n",
    "    sys.path.append(str(src_path))\n",
    "\n",
    "from Ballpushing_utils import Experiment, Fly\n",
    "\n",
    "from utils_behavior import Processing"
   ]
  },
  {
   "cell_type": "markdown",
   "id": "81875e76",
   "metadata": {},
   "source": [
    "# Generate a Fly object"
   ]
  },
  {
   "cell_type": "code",
   "execution_count": 2,
   "id": "40802dff",
   "metadata": {},
   "outputs": [
    {
     "name": "stdout",
     "output_type": "stream",
     "text": [
      "Config loaded with the following parameters:\n",
      "debugging: False\n",
      "experiment_type: Ctrl\n",
      "time_range: None\n",
      "success_cutoff: True\n",
      "success_cutoff_method: final_event\n",
      "tracks_smoothing: True\n",
      "chamber_radius: 50\n",
      "downsampling_factor: None\n",
      "generate_random: False\n",
      "random_exclude_interactions: True\n",
      "random_interaction_map: full\n",
      "interaction_threshold: (0, 45)\n",
      "gap_between_events: 1\n",
      "events_min_length: 1\n",
      "dead_threshold: 30\n",
      "adjusted_events_normalisation: 1000\n",
      "significant_threshold: 5\n",
      "success_threshold: 5\n",
      "aha_moment_threshold: 20\n",
      "success_direction_threshold: 25\n",
      "final_event_threshold: 170\n",
      "final_event_F1_threshold: 100\n",
      "max_event_threshold: 10\n",
      "pause_threshold: 5\n",
      "pause_window: 5\n",
      "pause_min_duration: 2\n",
      "template_width: 96\n",
      "template_height: 516\n",
      "padding: 20\n",
      "y_crop: (74, 0)\n",
      "contact_threshold: (0, 13)\n",
      "gap_between_contacts: 0.5\n",
      "contact_min_length: 0.5\n",
      "skeleton_tracks_smoothing: False\n",
      "hidden_value: 9999\n",
      "Ctrl has no particular configuration.\n"
     ]
    }
   ],
   "source": [
    "ExampleFly_path = Path(\n",
    "    \"/mnt/upramdya_data/MD/MultiMazeRecorder/Videos/231130_TNT_Fine_2_Videos_Tracked/arena2/corridor5\"\n",
    ")\n",
    "\n",
    "ExampleFly = Fly(ExampleFly_path, as_individual=True)"
   ]
  },
  {
   "cell_type": "markdown",
   "id": "3fed3264",
   "metadata": {},
   "source": [
    "## Get the list of interaction events using the above config parameters"
   ]
  },
  {
   "cell_type": "code",
   "execution_count": 19,
   "id": "0b811347",
   "metadata": {},
   "outputs": [
    {
     "data": {
      "text/plain": [
       "[[np.int64(428), np.int64(887), np.int64(459)],\n",
       " [np.int64(61133), np.int64(61216), np.int64(83)],\n",
       " [np.int64(63585), np.int64(64090), np.int64(505)],\n",
       " [np.int64(64341), np.int64(64416), np.int64(75)],\n",
       " [np.int64(79792), np.int64(80074), np.int64(282)]]"
      ]
     },
     "execution_count": 19,
     "metadata": {},
     "output_type": "execute_result"
    }
   ],
   "source": [
    "interaction_events = ExampleFly.tracking_data.interaction_events[0][0]\n",
    "\n",
    "interaction_events"
   ]
  },
  {
   "cell_type": "code",
   "execution_count": 26,
   "id": "eb83121a",
   "metadata": {},
   "outputs": [
    {
     "name": "stdout",
     "output_type": "stream",
     "text": [
      "Average interaction duration: 9.68 seconds or 280.80 frames\n"
     ]
    }
   ],
   "source": [
    "# Take the 3rd element of each interaction event (duration) and average it\n",
    "\n",
    "interaction_durations = [event[2] for event in interaction_events]\n",
    "\n",
    "average_interaction_duration = sum(interaction_durations) / len(interaction_durations)\n",
    "\n",
    "average_duration_time = average_interaction_duration / ExampleFly.experiment.fps\n",
    "\n",
    "print(f\"Average interaction duration: {average_duration_time:.2f} seconds or {average_interaction_duration:.2f} frames\")"
   ]
  },
  {
   "cell_type": "markdown",
   "id": "89952233",
   "metadata": {},
   "source": [
    "Here we have an idea of the average duration of an interaction between the fly and the ball. Another interesting metric would be to look at the average duration of events after the event onset, as it's the critical point for UMAP"
   ]
  },
  {
   "cell_type": "code",
   "execution_count": 21,
   "id": "e144075a",
   "metadata": {},
   "outputs": [
    {
     "data": {
      "text/plain": [
       "[452, 61161, 63748, 64372, 79892]"
      ]
     },
     "execution_count": 21,
     "metadata": {},
     "output_type": "execute_result"
    }
   ],
   "source": [
    "interaction_onsets = ExampleFly.tracking_data.interactions_onsets[0, 0]\n",
    "\n",
    "interaction_onsets"
   ]
  },
  {
   "cell_type": "code",
   "execution_count": 27,
   "id": "c5e75a1f",
   "metadata": {},
   "outputs": [
    {
     "name": "stdout",
     "output_type": "stream",
     "text": [
      "Average adjusted interaction duration: 7.30 seconds or 211.60 frames\n"
     ]
    }
   ],
   "source": [
    "# Compute the adjusted duration for each event, from the interaction onset to the end of the interaction\n",
    "\n",
    "adjusted_interaction_durations = []\n",
    "\n",
    "# Ensure interaction_onsets and interaction_events have the same length\n",
    "if len(interaction_onsets) != len(interaction_events):\n",
    "    raise ValueError(\"Mismatch between the number of interaction onsets and interaction events.\")\n",
    "\n",
    "for i, event in enumerate(interaction_events):\n",
    "    try:\n",
    "        start_time = interaction_onsets[i]\n",
    "        end_time = event[1]\n",
    "        if start_time is None or end_time is None:\n",
    "            raise ValueError(f\"Invalid start or end time for event {i}.\")\n",
    "        adjusted_duration = end_time - start_time\n",
    "        adjusted_interaction_durations.append(adjusted_duration)\n",
    "    except Exception as e:\n",
    "        print(f\"Error processing event {i}: {e}\")\n",
    "\n",
    "# Calculate the average adjusted interaction duration\n",
    "if adjusted_interaction_durations:\n",
    "    average_adjusted_interaction_duration = sum(adjusted_interaction_durations) / len(adjusted_interaction_durations)\n",
    "\n",
    "    average_adjusted_interaction_duration_time = average_adjusted_interaction_duration / ExampleFly.experiment.fps\n",
    "    print(f\"Average adjusted interaction duration: {average_adjusted_interaction_duration_time:.2f} seconds or {average_adjusted_interaction_duration:.2f} frames\")\n",
    "else:\n",
    "    print(\"No valid adjusted interaction durations to calculate an average.\")"
   ]
  },
  {
   "cell_type": "markdown",
   "id": "d29dd7a9",
   "metadata": {},
   "source": [
    "So here we see on average, an event lasts 212 frames. So maximum standardized contact length should be around 200"
   ]
  },
  {
   "cell_type": "markdown",
   "id": "313578b4",
   "metadata": {},
   "source": [
    "# Test on full experiment"
   ]
  },
  {
   "cell_type": "markdown",
   "id": "aabd7220",
   "metadata": {},
   "source": [
    "Flies can be quite different from one another so we're gonna generate a concatenated list of all events for one experiment."
   ]
  },
  {
   "cell_type": "code",
   "execution_count": 29,
   "id": "e24f5db1",
   "metadata": {},
   "outputs": [
    {
     "name": "stdout",
     "output_type": "stream",
     "text": [
      "Config loaded with the following parameters:\n",
      "debugging: False\n",
      "experiment_type: Ctrl\n",
      "time_range: None\n",
      "success_cutoff: True\n",
      "success_cutoff_method: final_event\n",
      "tracks_smoothing: True\n",
      "chamber_radius: 50\n",
      "downsampling_factor: None\n",
      "generate_random: False\n",
      "random_exclude_interactions: True\n",
      "random_interaction_map: full\n",
      "interaction_threshold: (0, 45)\n",
      "gap_between_events: 1\n",
      "events_min_length: 1\n",
      "dead_threshold: 30\n",
      "adjusted_events_normalisation: 1000\n",
      "significant_threshold: 5\n",
      "success_threshold: 5\n",
      "aha_moment_threshold: 20\n",
      "success_direction_threshold: 25\n",
      "final_event_threshold: 170\n",
      "final_event_F1_threshold: 100\n",
      "max_event_threshold: 10\n",
      "pause_threshold: 5\n",
      "pause_window: 5\n",
      "pause_min_duration: 2\n",
      "template_width: 96\n",
      "template_height: 516\n",
      "padding: 20\n",
      "y_crop: (74, 0)\n",
      "contact_threshold: (0, 13)\n",
      "gap_between_contacts: 0.5\n",
      "contact_min_length: 0.5\n",
      "skeleton_tracks_smoothing: False\n",
      "hidden_value: 9999\n",
      "Loading fly from /mnt/upramdya_data/MD/MultiMazeRecorder/Videos/231130_TNT_Fine_2_Videos_Tracked/arena2/corridor5\n",
      "Ctrl has no particular configuration.\n",
      "Loading fly from /mnt/upramdya_data/MD/MultiMazeRecorder/Videos/231130_TNT_Fine_2_Videos_Tracked/arena2/corridor1\n",
      "Ctrl has no particular configuration.\n",
      "Warning: 231130_TNT_Fine_2_Videos_Tracked_arena2_corridor1 is inactive at 1641.5862068965516\n",
      "Loading fly from /mnt/upramdya_data/MD/MultiMazeRecorder/Videos/231130_TNT_Fine_2_Videos_Tracked/arena2/corridor4\n",
      "Ctrl has no particular configuration.\n",
      "Loading fly from /mnt/upramdya_data/MD/MultiMazeRecorder/Videos/231130_TNT_Fine_2_Videos_Tracked/arena2/corridor2\n",
      "Ctrl has no particular configuration.\n",
      "Loading fly from /mnt/upramdya_data/MD/MultiMazeRecorder/Videos/231130_TNT_Fine_2_Videos_Tracked/arena2/corridor6\n",
      "Ctrl has no particular configuration.\n",
      "Warning: 231130_TNT_Fine_2_Videos_Tracked_arena2_corridor6 is inactive at 573.0689655172414\n",
      "Loading fly from /mnt/upramdya_data/MD/MultiMazeRecorder/Videos/231130_TNT_Fine_2_Videos_Tracked/arena2/corridor3\n",
      "Ctrl has no particular configuration.\n",
      "Warning: 231130_TNT_Fine_2_Videos_Tracked_arena2_corridor3 is inactive at 1794.7241379310344\n",
      "Loading fly from /mnt/upramdya_data/MD/MultiMazeRecorder/Videos/231130_TNT_Fine_2_Videos_Tracked/arena7/corridor5\n",
      "Ctrl has no particular configuration.\n",
      "Loading fly from /mnt/upramdya_data/MD/MultiMazeRecorder/Videos/231130_TNT_Fine_2_Videos_Tracked/arena7/corridor1\n",
      "Ctrl has no particular configuration.\n",
      "Loading fly from /mnt/upramdya_data/MD/MultiMazeRecorder/Videos/231130_TNT_Fine_2_Videos_Tracked/arena7/corridor4\n",
      "Ctrl has no particular configuration.\n",
      "Loading fly from /mnt/upramdya_data/MD/MultiMazeRecorder/Videos/231130_TNT_Fine_2_Videos_Tracked/arena7/corridor2\n",
      "Ctrl has no particular configuration.\n",
      "Loading fly from /mnt/upramdya_data/MD/MultiMazeRecorder/Videos/231130_TNT_Fine_2_Videos_Tracked/arena7/corridor6\n",
      "Ctrl has no particular configuration.\n",
      "Loading fly from /mnt/upramdya_data/MD/MultiMazeRecorder/Videos/231130_TNT_Fine_2_Videos_Tracked/arena7/corridor3\n",
      "Ctrl has no particular configuration.\n",
      "Loading fly from /mnt/upramdya_data/MD/MultiMazeRecorder/Videos/231130_TNT_Fine_2_Videos_Tracked/arena6/corridor5\n",
      "Ctrl has no particular configuration.\n",
      "Loading fly from /mnt/upramdya_data/MD/MultiMazeRecorder/Videos/231130_TNT_Fine_2_Videos_Tracked/arena6/corridor1\n",
      "Ctrl has no particular configuration.\n",
      "Loading fly from /mnt/upramdya_data/MD/MultiMazeRecorder/Videos/231130_TNT_Fine_2_Videos_Tracked/arena6/corridor4\n",
      "Ctrl has no particular configuration.\n",
      "Loading fly from /mnt/upramdya_data/MD/MultiMazeRecorder/Videos/231130_TNT_Fine_2_Videos_Tracked/arena6/corridor2\n",
      "Ctrl has no particular configuration.\n",
      "Loading fly from /mnt/upramdya_data/MD/MultiMazeRecorder/Videos/231130_TNT_Fine_2_Videos_Tracked/arena6/corridor6\n",
      "Ctrl has no particular configuration.\n",
      "Loading fly from /mnt/upramdya_data/MD/MultiMazeRecorder/Videos/231130_TNT_Fine_2_Videos_Tracked/arena6/corridor3\n",
      "Ctrl has no particular configuration.\n",
      "Loading fly from /mnt/upramdya_data/MD/MultiMazeRecorder/Videos/231130_TNT_Fine_2_Videos_Tracked/arena5/corridor5\n",
      "Ctrl has no particular configuration.\n",
      "Loading fly from /mnt/upramdya_data/MD/MultiMazeRecorder/Videos/231130_TNT_Fine_2_Videos_Tracked/arena5/corridor1\n",
      "Ctrl has no particular configuration.\n",
      "Loading fly from /mnt/upramdya_data/MD/MultiMazeRecorder/Videos/231130_TNT_Fine_2_Videos_Tracked/arena5/corridor4\n",
      "Ctrl has no particular configuration.\n",
      "Loading fly from /mnt/upramdya_data/MD/MultiMazeRecorder/Videos/231130_TNT_Fine_2_Videos_Tracked/arena5/corridor2\n",
      "Ctrl has no particular configuration.\n",
      "Warning: 231130_TNT_Fine_2_Videos_Tracked_arena5_corridor2 is inactive at 0.06896551724137931\n",
      "Loading fly from /mnt/upramdya_data/MD/MultiMazeRecorder/Videos/231130_TNT_Fine_2_Videos_Tracked/arena5/corridor6\n",
      "Ctrl has no particular configuration.\n",
      "Warning: 231130_TNT_Fine_2_Videos_Tracked_arena5_corridor6 is inactive at 233.20689655172413\n",
      "Loading fly from /mnt/upramdya_data/MD/MultiMazeRecorder/Videos/231130_TNT_Fine_2_Videos_Tracked/arena5/corridor3\n",
      "Ctrl has no particular configuration.\n",
      "Loading fly from /mnt/upramdya_data/MD/MultiMazeRecorder/Videos/231130_TNT_Fine_2_Videos_Tracked/arena8/corridor5\n",
      "Ctrl has no particular configuration.\n",
      "Warning: 231130_TNT_Fine_2_Videos_Tracked_arena8_corridor5 is inactive at 823.2068965517242\n",
      "Loading fly from /mnt/upramdya_data/MD/MultiMazeRecorder/Videos/231130_TNT_Fine_2_Videos_Tracked/arena8/corridor1\n",
      "Ctrl has no particular configuration.\n",
      "Warning: 231130_TNT_Fine_2_Videos_Tracked_arena8_corridor1 is inactive at 0.06896551724137931\n",
      "Loading fly from /mnt/upramdya_data/MD/MultiMazeRecorder/Videos/231130_TNT_Fine_2_Videos_Tracked/arena8/corridor4\n",
      "Ctrl has no particular configuration.\n",
      "Warning: 231130_TNT_Fine_2_Videos_Tracked_arena8_corridor4 is inactive at 698.2413793103449\n",
      "Loading fly from /mnt/upramdya_data/MD/MultiMazeRecorder/Videos/231130_TNT_Fine_2_Videos_Tracked/arena8/corridor2\n",
      "Ctrl has no particular configuration.\n",
      "Warning: 231130_TNT_Fine_2_Videos_Tracked_arena8_corridor2 is inactive at 537.5862068965517\n",
      "Loading fly from /mnt/upramdya_data/MD/MultiMazeRecorder/Videos/231130_TNT_Fine_2_Videos_Tracked/arena8/corridor6\n",
      "Ctrl has no particular configuration.\n",
      "Warning: 231130_TNT_Fine_2_Videos_Tracked_arena8_corridor6 is inactive at 1102.2413793103449\n",
      "Loading fly from /mnt/upramdya_data/MD/MultiMazeRecorder/Videos/231130_TNT_Fine_2_Videos_Tracked/arena8/corridor3\n",
      "Ctrl has no particular configuration.\n",
      "Warning: 231130_TNT_Fine_2_Videos_Tracked_arena8_corridor3 is inactive at 0.06896551724137931\n",
      "Loading fly from /mnt/upramdya_data/MD/MultiMazeRecorder/Videos/231130_TNT_Fine_2_Videos_Tracked/arena3/corridor5\n",
      "Ctrl has no particular configuration.\n",
      "Loading fly from /mnt/upramdya_data/MD/MultiMazeRecorder/Videos/231130_TNT_Fine_2_Videos_Tracked/arena3/corridor1\n",
      "Ctrl has no particular configuration.\n",
      "Loading fly from /mnt/upramdya_data/MD/MultiMazeRecorder/Videos/231130_TNT_Fine_2_Videos_Tracked/arena3/corridor4\n",
      "Ctrl has no particular configuration.\n",
      "Loading fly from /mnt/upramdya_data/MD/MultiMazeRecorder/Videos/231130_TNT_Fine_2_Videos_Tracked/arena3/corridor2\n",
      "Ctrl has no particular configuration.\n",
      "Loading fly from /mnt/upramdya_data/MD/MultiMazeRecorder/Videos/231130_TNT_Fine_2_Videos_Tracked/arena3/corridor6\n",
      "Ctrl has no particular configuration.\n",
      "Loading fly from /mnt/upramdya_data/MD/MultiMazeRecorder/Videos/231130_TNT_Fine_2_Videos_Tracked/arena3/corridor3\n",
      "Ctrl has no particular configuration.\n",
      "Loading fly from /mnt/upramdya_data/MD/MultiMazeRecorder/Videos/231130_TNT_Fine_2_Videos_Tracked/arena4/corridor5\n",
      "Ctrl has no particular configuration.\n",
      "Loading fly from /mnt/upramdya_data/MD/MultiMazeRecorder/Videos/231130_TNT_Fine_2_Videos_Tracked/arena4/corridor1\n",
      "Ctrl has no particular configuration.\n",
      "Loading fly from /mnt/upramdya_data/MD/MultiMazeRecorder/Videos/231130_TNT_Fine_2_Videos_Tracked/arena4/corridor4\n",
      "Ctrl has no particular configuration.\n",
      "Loading fly from /mnt/upramdya_data/MD/MultiMazeRecorder/Videos/231130_TNT_Fine_2_Videos_Tracked/arena4/corridor2\n",
      "Ctrl has no particular configuration.\n",
      "Loading fly from /mnt/upramdya_data/MD/MultiMazeRecorder/Videos/231130_TNT_Fine_2_Videos_Tracked/arena4/corridor6\n",
      "Ctrl has no particular configuration.\n",
      "Loading fly from /mnt/upramdya_data/MD/MultiMazeRecorder/Videos/231130_TNT_Fine_2_Videos_Tracked/arena4/corridor3\n",
      "Ctrl has no particular configuration.\n",
      "Loading fly from /mnt/upramdya_data/MD/MultiMazeRecorder/Videos/231130_TNT_Fine_2_Videos_Tracked/arena1/corridor5\n",
      "Ctrl has no particular configuration.\n",
      "Genotype is None: 231130_TNT_Fine_2_Videos_Tracked_arena1_corridor5 is empty.\n",
      "Error while loading fly from /mnt/upramdya_data/MD/MultiMazeRecorder/Videos/231130_TNT_Fine_2_Videos_Tracked/arena1/corridor5: cannot unpack non-iterable NoneType object\n",
      "Loading fly from /mnt/upramdya_data/MD/MultiMazeRecorder/Videos/231130_TNT_Fine_2_Videos_Tracked/arena1/corridor1\n",
      "Ctrl has no particular configuration.\n",
      "Genotype is None: 231130_TNT_Fine_2_Videos_Tracked_arena1_corridor1 is empty.\n",
      "Error while loading fly from /mnt/upramdya_data/MD/MultiMazeRecorder/Videos/231130_TNT_Fine_2_Videos_Tracked/arena1/corridor1: cannot unpack non-iterable NoneType object\n",
      "Loading fly from /mnt/upramdya_data/MD/MultiMazeRecorder/Videos/231130_TNT_Fine_2_Videos_Tracked/arena1/corridor4\n",
      "Ctrl has no particular configuration.\n",
      "Genotype is None: 231130_TNT_Fine_2_Videos_Tracked_arena1_corridor4 is empty.\n",
      "Error while loading fly from /mnt/upramdya_data/MD/MultiMazeRecorder/Videos/231130_TNT_Fine_2_Videos_Tracked/arena1/corridor4: cannot unpack non-iterable NoneType object\n",
      "Loading fly from /mnt/upramdya_data/MD/MultiMazeRecorder/Videos/231130_TNT_Fine_2_Videos_Tracked/arena1/corridor2\n",
      "Ctrl has no particular configuration.\n",
      "Genotype is None: 231130_TNT_Fine_2_Videos_Tracked_arena1_corridor2 is empty.\n",
      "Error while loading fly from /mnt/upramdya_data/MD/MultiMazeRecorder/Videos/231130_TNT_Fine_2_Videos_Tracked/arena1/corridor2: cannot unpack non-iterable NoneType object\n",
      "Loading fly from /mnt/upramdya_data/MD/MultiMazeRecorder/Videos/231130_TNT_Fine_2_Videos_Tracked/arena1/corridor6\n",
      "Ctrl has no particular configuration.\n",
      "Genotype is None: 231130_TNT_Fine_2_Videos_Tracked_arena1_corridor6 is empty.\n",
      "Error while loading fly from /mnt/upramdya_data/MD/MultiMazeRecorder/Videos/231130_TNT_Fine_2_Videos_Tracked/arena1/corridor6: cannot unpack non-iterable NoneType object\n",
      "Loading fly from /mnt/upramdya_data/MD/MultiMazeRecorder/Videos/231130_TNT_Fine_2_Videos_Tracked/arena1/corridor3\n",
      "Ctrl has no particular configuration.\n",
      "Genotype is None: 231130_TNT_Fine_2_Videos_Tracked_arena1_corridor3 is empty.\n",
      "Error while loading fly from /mnt/upramdya_data/MD/MultiMazeRecorder/Videos/231130_TNT_Fine_2_Videos_Tracked/arena1/corridor3: cannot unpack non-iterable NoneType object\n",
      "Loading fly from /mnt/upramdya_data/MD/MultiMazeRecorder/Videos/231130_TNT_Fine_2_Videos_Tracked/arena9/corridor5\n",
      "Ctrl has no particular configuration.\n",
      "Loading fly from /mnt/upramdya_data/MD/MultiMazeRecorder/Videos/231130_TNT_Fine_2_Videos_Tracked/arena9/corridor1\n",
      "Ctrl has no particular configuration.\n",
      "Loading fly from /mnt/upramdya_data/MD/MultiMazeRecorder/Videos/231130_TNT_Fine_2_Videos_Tracked/arena9/corridor4\n",
      "Ctrl has no particular configuration.\n",
      "Loading fly from /mnt/upramdya_data/MD/MultiMazeRecorder/Videos/231130_TNT_Fine_2_Videos_Tracked/arena9/corridor2\n",
      "Ctrl has no particular configuration.\n",
      "Loading fly from /mnt/upramdya_data/MD/MultiMazeRecorder/Videos/231130_TNT_Fine_2_Videos_Tracked/arena9/corridor6\n",
      "Ctrl has no particular configuration.\n",
      "Loading fly from /mnt/upramdya_data/MD/MultiMazeRecorder/Videos/231130_TNT_Fine_2_Videos_Tracked/arena9/corridor3\n",
      "Ctrl has no particular configuration.\n",
      "Warning: 231130_TNT_Fine_2_Videos_Tracked_arena9_corridor3 is inactive at 1344.2068965517242\n"
     ]
    }
   ],
   "source": [
    "ExampleExperiment_path = Path(\n",
    "    \"/mnt/upramdya_data/MD/MultiMazeRecorder/Videos/231130_TNT_Fine_2_Videos_Tracked/\"\n",
    ")\n",
    "ExampleExperiment = Experiment(\n",
    "    ExampleExperiment_path,\n",
    ")"
   ]
  },
  {
   "cell_type": "code",
   "execution_count": null,
   "id": "4fa15547",
   "metadata": {},
   "outputs": [
    {
     "name": "stdout",
     "output_type": "stream",
     "text": [
      "Average adjusted interaction duration: 7.30 seconds or 211.60 frames\n",
      "Average adjusted interaction duration: 5.92 seconds or 171.73 frames\n",
      "Average adjusted interaction duration: 5.88 seconds or 170.59 frames\n",
      "Average adjusted interaction duration: 5.67 seconds or 164.32 frames\n",
      "Average adjusted interaction duration: 5.57 seconds or 161.48 frames\n",
      "Average adjusted interaction duration: 6.47 seconds or 187.75 frames\n",
      "Average adjusted interaction duration: 6.53 seconds or 189.24 frames\n",
      "Average adjusted interaction duration: 6.33 seconds or 183.61 frames\n",
      "Average adjusted interaction duration: 6.45 seconds or 186.98 frames\n",
      "Average adjusted interaction duration: 6.23 seconds or 180.69 frames\n",
      "Average adjusted interaction duration: 6.18 seconds or 179.21 frames\n",
      "Average adjusted interaction duration: 6.41 seconds or 185.86 frames\n",
      "Average adjusted interaction duration: 6.21 seconds or 180.13 frames\n",
      "Average adjusted interaction duration: 6.48 seconds or 187.83 frames\n",
      "Average adjusted interaction duration: 6.64 seconds or 192.44 frames\n",
      "Average adjusted interaction duration: 6.70 seconds or 194.39 frames\n",
      "Average adjusted interaction duration: 6.62 seconds or 191.85 frames\n",
      "Average adjusted interaction duration: 6.14 seconds or 177.99 frames\n",
      "Average adjusted interaction duration: 6.49 seconds or 188.31 frames\n",
      "Average adjusted interaction duration: 6.39 seconds or 185.36 frames\n",
      "Average adjusted interaction duration: 6.31 seconds or 183.00 frames\n",
      "Average adjusted interaction duration: 6.23 seconds or 180.61 frames\n",
      "Average adjusted interaction duration: 6.29 seconds or 182.42 frames\n",
      "Average adjusted interaction duration: 6.35 seconds or 184.24 frames\n",
      "Average adjusted interaction duration: 6.49 seconds or 188.29 frames\n",
      "Average adjusted interaction duration: 6.37 seconds or 184.68 frames\n",
      "Average adjusted interaction duration: 6.31 seconds or 182.95 frames\n",
      "Average adjusted interaction duration: 7.21 seconds or 209.04 frames\n",
      "Average adjusted interaction duration: 7.13 seconds or 206.66 frames\n",
      "Average adjusted interaction duration: 7.04 seconds or 204.17 frames\n",
      "Average adjusted interaction duration: 7.03 seconds or 203.95 frames\n",
      "Average adjusted interaction duration: 7.07 seconds or 205.13 frames\n",
      "Average adjusted interaction duration: 7.03 seconds or 203.86 frames\n",
      "Average adjusted interaction duration: 7.06 seconds or 204.71 frames\n",
      "Average adjusted interaction duration: 7.09 seconds or 205.58 frames\n",
      "Average adjusted interaction duration: 7.07 seconds or 205.10 frames\n",
      "Average adjusted interaction duration: 7.32 seconds or 212.24 frames\n",
      "Average adjusted interaction duration: 7.14 seconds or 207.00 frames\n",
      "Average adjusted interaction duration: 7.12 seconds or 206.58 frames\n",
      "Average adjusted interaction duration: 7.09 seconds or 205.52 frames\n",
      "Average adjusted interaction duration: 7.10 seconds or 205.88 frames\n",
      "Average adjusted interaction duration: 7.06 seconds or 204.72 frames\n",
      "Average adjusted interaction duration: 7.14 seconds or 207.19 frames\n",
      "Average adjusted interaction duration: 7.17 seconds or 207.79 frames\n",
      "Average adjusted interaction duration: 7.42 seconds or 215.12 frames\n",
      "Average adjusted interaction duration: 7.37 seconds or 213.69 frames\n",
      "Average adjusted interaction duration: 7.26 seconds or 210.61 frames\n",
      "Average adjusted interaction duration: 7.27 seconds or 210.79 frames\n"
     ]
    }
   ],
   "source": [
    "# For each fly, get the adjusted interaction durations\n",
    "adjusted_interaction_durations_all_flies = []\n",
    "\n",
    "for fly in ExampleExperiment.flies:\n",
    "    interaction_events = fly.tracking_data.interaction_events[0][0]\n",
    "    interaction_onsets = fly.tracking_data.interactions_onsets[0, 0]\n",
    "\n",
    "    # Ensure interaction_onsets and interaction_events have the same length\n",
    "    if len(interaction_onsets) != len(interaction_events):\n",
    "        raise ValueError(\"Mismatch between the number of interaction onsets and interaction events.\")\n",
    "\n",
    "    for i, event in enumerate(interaction_events):\n",
    "        try:\n",
    "            start_time = interaction_onsets[i]\n",
    "            end_time = event[1]\n",
    "            if start_time is None or end_time is None:\n",
    "                raise ValueError(f\"Invalid start or end time for event {i}.\")\n",
    "            adjusted_duration = end_time - start_time\n",
    "            adjusted_interaction_durations.append(adjusted_duration)\n",
    "        except Exception as e:\n",
    "            print(f\"Error processing event {i}: {e}\")\n",
    "\n",
    "    # Calculate the average adjusted interaction duration\n",
    "    if adjusted_interaction_durations:\n",
    "        average_adjusted_interaction_duration = sum(adjusted_interaction_durations) / len(adjusted_interaction_durations)\n",
    "\n",
    "        average_adjusted_interaction_duration_time = average_adjusted_interaction_duration / ExampleFly.experiment.fps\n",
    "        print(\n",
    "            f\"Average adjusted interaction duration: {average_adjusted_interaction_duration_time:.2f} seconds or {average_adjusted_interaction_duration:.2f} frames\"\n",
    "        )\n",
    "\n",
    "        adjusted_interaction_durations_all_flies.append(adjusted_interaction_durations)\n",
    "    else:\n",
    "        print(\"No valid adjusted interaction durations to calculate an average.\")"
   ]
  },
  {
   "cell_type": "code",
   "execution_count": 31,
   "id": "6eafe697",
   "metadata": {},
   "outputs": [
    {
     "name": "stdout",
     "output_type": "stream",
     "text": [
      "Average adjusted interaction duration across all flies: 7.27 seconds or 210.79 frames\n"
     ]
    }
   ],
   "source": [
    "# Get the average adjusted interaction duration across all flies\n",
    "\n",
    "if adjusted_interaction_durations_all_flies:\n",
    "    all_durations_flat = [duration for sublist in adjusted_interaction_durations_all_flies for duration in sublist]\n",
    "    average_adjusted_interaction_duration_all_flies = sum(all_durations_flat) / len(all_durations_flat)\n",
    "\n",
    "    average_adjusted_interaction_duration_time_all_flies = average_adjusted_interaction_duration_all_flies / ExampleFly.experiment.fps\n",
    "    print(\n",
    "        f\"Average adjusted interaction duration across all flies: {average_adjusted_interaction_duration_time_all_flies:.2f} seconds or {average_adjusted_interaction_duration_all_flies:.2f} frames\"\n",
    "    )\n",
    "else:\n",
    "    print(\"No valid adjusted interaction durations to calculate an average across all flies.\")"
   ]
  },
  {
   "cell_type": "code",
   "execution_count": 34,
   "id": "47249258",
   "metadata": {},
   "outputs": [
    {
     "data": {
      "image/png": "[encoded data removed]",
      "text/plain": [
       "<Figure size 1000x600 with 1 Axes>"
      ]
     },
     "metadata": {},
     "output_type": "display_data"
    }
   ],
   "source": [
    "# Generate an histogram of the adjusted interaction durations\n",
    "\n",
    "plt.figure(figsize=(10, 6))\n",
    "\n",
    "sns.histplot(\n",
    "    adjusted_interaction_durations_all_flies,\n",
    "    bins=30,\n",
    "    kde=False,\n",
    "    color=\"blue\",\n",
    ")\n",
    "\n",
    "# Remove legend\n",
    "plt.legend().remove()"
   ]
  },
  {
   "cell_type": "markdown",
   "id": "369561de",
   "metadata": {},
   "source": [
    "Data is skewed, actually although the average is 200, most interactions are found at much lower value"
   ]
  },
  {
   "cell_type": "code",
   "execution_count": 35,
   "id": "788747f1",
   "metadata": {},
   "outputs": [
    {
     "name": "stdout",
     "output_type": "stream",
     "text": [
      "Median adjusted interaction duration across all flies: 115.00 frames\n"
     ]
    }
   ],
   "source": [
    "# Compute the median of the adjusted interaction durations\n",
    "\n",
    "median_adjusted_interaction_duration = np.median(adjusted_interaction_durations_all_flies)\n",
    "\n",
    "print(\n",
    "    f\"Median adjusted interaction duration across all flies: {median_adjusted_interaction_duration:.2f} frames\"\n",
    ")"
   ]
  },
  {
   "cell_type": "markdown",
   "id": "97a635b9",
   "metadata": {},
   "source": [
    "Let's also generate some bootstrapped confidence interval of the median"
   ]
  },
  {
   "cell_type": "code",
   "execution_count": 43,
   "id": "5c3ccc1d",
   "metadata": {},
   "outputs": [
    {
     "data": {
      "text/plain": [
       "array([115., 115.])"
      ]
     },
     "execution_count": 43,
     "metadata": {},
     "output_type": "execute_result"
    }
   ],
   "source": [
    "bs_ci_median = Processing.draw_bs_ci(\n",
    "    adjusted_interaction_durations_all_flies,\n",
    "    func=np.median,\n",
    "    n_reps=1000,\n",
    ")\n",
    "\n",
    "bs_ci_median"
   ]
  },
  {
   "cell_type": "code",
   "execution_count": 44,
   "id": "67b4bbab",
   "metadata": {},
   "outputs": [
    {
     "data": {
      "text/plain": [
       "array([210.78640777, 210.78640777])"
      ]
     },
     "execution_count": 44,
     "metadata": {},
     "output_type": "execute_result"
    }
   ],
   "source": [
    "bs_ci_mean = Processing.draw_bs_ci(\n",
    "    adjusted_interaction_durations_all_flies,\n",
    "    func=np.mean,\n",
    "    n_reps=1000,\n",
    ")\n",
    "bs_ci_mean"
   ]
  },
  {
   "cell_type": "markdown",
   "id": "dd3908e4",
   "metadata": {},
   "source": [
    "Here we can see that the bootstrapped interval is super narrow around 115 for median and 210 for mean. Data being very skewed, it is likely that median is a better indicator, so 115 frames makes sense."
   ]
  },
  {
   "cell_type": "code",
   "execution_count": 45,
   "id": "46a3b633",
   "metadata": {},
   "outputs": [
    {
     "data": {
      "image/png": "[encoded data removed]",
      "text/plain": [
       "<Figure size 1000x600 with 1 Axes>"
      ]
     },
     "metadata": {},
     "output_type": "display_data"
    }
   ],
   "source": [
    "# Redo the histogram with the mean and median as vertical lines\n",
    "\n",
    "plt.figure(figsize=(10, 6))\n",
    "\n",
    "sns.histplot(\n",
    "    adjusted_interaction_durations_all_flies,\n",
    "    bins=30,\n",
    "    kde=False,\n",
    "    color=\"blue\",\n",
    ")\n",
    "\n",
    "# Add mean and median lines\n",
    "\n",
    "plt.axvline(\n",
    "    x=average_adjusted_interaction_duration_all_flies,\n",
    "    color=\"red\",\n",
    "    linestyle=\"--\",\n",
    "    label=f\"Mean: {bs_ci_mean[0]:.2f} frames\",\n",
    ")\n",
    "\n",
    "plt.axvline(\n",
    "    x=median_adjusted_interaction_duration,\n",
    "    color=\"green\",\n",
    "    linestyle=\"--\",\n",
    "    label=f\"Median: {bs_ci_median[0]:.2f} frames\",\n",
    ")\n",
    "\n",
    "\n",
    "# Remove legend\n",
    "plt.legend().remove()"
   ]
  }
 ],
 "metadata": {
  "kernelspec": {
   "display_name": "tracking_analysis",
   "language": "python",
   "name": "python3"
  },
  "language_info": {
   "codemirror_mode": {
    "name": "ipython",
    "version": 3
   },
   "file_extension": ".py",
   "mimetype": "text/x-python",
   "name": "python",
   "nbconvert_exporter": "python",
   "pygments_lexer": "ipython3",
   "version": "3.12.6"
  }
 },
 "nbformat": 4,
 "nbformat_minor": 5
}
