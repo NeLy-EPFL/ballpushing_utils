{
 "cells": [
  {
   "cell_type": "markdown",
   "id": "e79ae233",
   "metadata": {},
   "source": [
    "# Description\n",
    "\n",
    "In this notebook we can explore the characteristics of interaction events, such as their lengths, the associated ball displacements, etc.\n",
    "\n",
    "# Imports"
   ]
  },
  {
   "cell_type": "code",
   "execution_count": 1,
   "id": "f3406794",
   "metadata": {},
   "outputs": [
    {
     "name": "stderr",
     "output_type": "stream",
     "text": [
      "<frozen importlib._bootstrap>:488: RuntimeWarning: Your system is avx2 capable but pygame was not built with support for it. The performance of some of your blits could be adversely affected. Consider enabling compile time detection with environment variables like PYGAME_DETECT_AVX2=1 if you are compiling without cross compilation.\n"
     ]
    },
    {
     "name": "stdout",
     "output_type": "stream",
     "text": [
      "pygame 2.6.0 (SDL 2.30.7, Python 3.12.6)\n",
      "Hello from the pygame community. https://www.pygame.org/contribute.html\n"
     ]
    }
   ],
   "source": [
    "from pathlib import Path\n",
    "import sys\n",
    "\n",
    "import seaborn as sns\n",
    "import matplotlib.pyplot as plt\n",
    "import numpy as np\n",
    "import pandas as pd\n",
    "\n",
    "src_path = Path.cwd().parent / \"src\"\n",
    "if src_path not in sys.path:\n",
    "    sys.path.append(str(src_path))\n",
    "\n",
    "from Ballpushing_utils import Experiment, Fly\n",
    "\n",
    "from utils_behavior import Processing"
   ]
  },
  {
   "cell_type": "code",
   "execution_count": 2,
   "id": "b2fe29c1",
   "metadata": {},
   "outputs": [],
   "source": [
    "output_dir = Path(\"/mnt/upramdya_files/DURRIEU_Matthias/Pictures/250411_TeamMeeting\")"
   ]
  },
  {
   "cell_type": "markdown",
   "id": "81875e76",
   "metadata": {},
   "source": [
    "# Generate a Fly object"
   ]
  },
  {
   "cell_type": "code",
   "execution_count": 3,
   "id": "40802dff",
   "metadata": {},
   "outputs": [],
   "source": [
    "ExampleFly_path = Path(\n",
    "    \"/mnt/upramdya_data/MD/MultiMazeRecorder/Videos/231130_TNT_Fine_2_Videos_Tracked/arena2/corridor5\"\n",
    ")\n",
    "\n",
    "ExampleFly = Fly(ExampleFly_path, as_individual=True)"
   ]
  },
  {
   "cell_type": "markdown",
   "id": "3fed3264",
   "metadata": {},
   "source": [
    "## Get the list of interaction events using the above config parameters"
   ]
  },
  {
   "cell_type": "code",
   "execution_count": 4,
   "id": "0b811347",
   "metadata": {},
   "outputs": [
    {
     "data": {
      "text/plain": [
       "[[np.int64(428), np.int64(887), np.int64(459)],\n",
       " [np.int64(61133), np.int64(61216), np.int64(83)],\n",
       " [np.int64(63585), np.int64(64090), np.int64(505)],\n",
       " [np.int64(64341), np.int64(64416), np.int64(75)],\n",
       " [np.int64(79792), np.int64(80074), np.int64(282)]]"
      ]
     },
     "execution_count": 4,
     "metadata": {},
     "output_type": "execute_result"
    }
   ],
   "source": [
    "interaction_events = ExampleFly.tracking_data.interaction_events[0][0]\n",
    "\n",
    "interaction_events"
   ]
  },
  {
   "cell_type": "code",
   "execution_count": 5,
   "id": "eb83121a",
   "metadata": {},
   "outputs": [
    {
     "name": "stdout",
     "output_type": "stream",
     "text": [
      "Average interaction duration: 9.68 seconds or 280.80 frames\n"
     ]
    }
   ],
   "source": [
    "# Take the 3rd element of each interaction event (duration) and average it\n",
    "\n",
    "interaction_durations = [event[2] for event in interaction_events]\n",
    "\n",
    "average_interaction_duration = sum(interaction_durations) / len(interaction_durations)\n",
    "\n",
    "average_duration_time = average_interaction_duration / ExampleFly.experiment.fps\n",
    "\n",
    "print(f\"Average interaction duration: {average_duration_time:.2f} seconds or {average_interaction_duration:.2f} frames\")"
   ]
  },
  {
   "cell_type": "markdown",
   "id": "89952233",
   "metadata": {},
   "source": [
    "Here we have an idea of the average duration of an interaction between the fly and the ball. Another interesting metric would be to look at the average duration of events after the event onset, as it's the critical point for UMAP"
   ]
  },
  {
   "cell_type": "code",
   "execution_count": 6,
   "id": "e144075a",
   "metadata": {},
   "outputs": [
    {
     "data": {
      "text/plain": [
       "[np.int64(597),\n",
       " np.int64(61114),\n",
       " np.int64(63777),\n",
       " np.int64(64318),\n",
       " np.int64(79873)]"
      ]
     },
     "execution_count": 6,
     "metadata": {},
     "output_type": "execute_result"
    }
   ],
   "source": [
    "interaction_onsets = ExampleFly.tracking_data.interactions_onsets[0, 0]\n",
    "\n",
    "interaction_onsets"
   ]
  },
  {
   "cell_type": "code",
   "execution_count": 7,
   "id": "c5e75a1f",
   "metadata": {},
   "outputs": [
    {
     "name": "stdout",
     "output_type": "stream",
     "text": [
      "Average adjusted interaction duration: 6.92 seconds or 200.80 frames\n"
     ]
    }
   ],
   "source": [
    "# Compute the adjusted duration for each event, from the interaction onset to the end of the interaction\n",
    "\n",
    "adjusted_interaction_durations = []\n",
    "\n",
    "# Ensure interaction_onsets and interaction_events have the same length\n",
    "if len(interaction_onsets) != len(interaction_events):\n",
    "    raise ValueError(\"Mismatch between the number of interaction onsets and interaction events.\")\n",
    "\n",
    "for i, event in enumerate(interaction_events):\n",
    "    try:\n",
    "        start_time = interaction_onsets[i]\n",
    "        end_time = event[1]\n",
    "        if start_time is None or end_time is None:\n",
    "            raise ValueError(f\"Invalid start or end time for event {i}.\")\n",
    "        adjusted_duration = end_time - start_time\n",
    "        adjusted_interaction_durations.append(adjusted_duration)\n",
    "    except Exception as e:\n",
    "        print(f\"Error processing event {i}: {e}\")\n",
    "\n",
    "# Calculate the average adjusted interaction duration\n",
    "if adjusted_interaction_durations:\n",
    "    average_adjusted_interaction_duration = sum(adjusted_interaction_durations) / len(adjusted_interaction_durations)\n",
    "\n",
    "    average_adjusted_interaction_duration_time = average_adjusted_interaction_duration / ExampleFly.experiment.fps\n",
    "    print(f\"Average adjusted interaction duration: {average_adjusted_interaction_duration_time:.2f} seconds or {average_adjusted_interaction_duration:.2f} frames\")\n",
    "else:\n",
    "    print(\"No valid adjusted interaction durations to calculate an average.\")"
   ]
  },
  {
   "cell_type": "markdown",
   "id": "d29dd7a9",
   "metadata": {},
   "source": [
    "So here we see on average, an event lasts 212 frames. So maximum standardized contact length should be around 200"
   ]
  },
  {
   "cell_type": "markdown",
   "id": "313578b4",
   "metadata": {},
   "source": [
    "# Test on full experiment"
   ]
  },
  {
   "cell_type": "markdown",
   "id": "aabd7220",
   "metadata": {},
   "source": [
    "Flies can be quite different from one another so we're gonna generate a concatenated list of all events for one experiment."
   ]
  },
  {
   "cell_type": "code",
   "execution_count": 8,
   "id": "e24f5db1",
   "metadata": {},
   "outputs": [
    {
     "name": "stdout",
     "output_type": "stream",
     "text": [
      "Loading fly from /mnt/upramdya_data/MD/MultiMazeRecorder/Videos/231130_TNT_Fine_2_Videos_Tracked/arena2/corridor5\n",
      "Loading fly from /mnt/upramdya_data/MD/MultiMazeRecorder/Videos/231130_TNT_Fine_2_Videos_Tracked/arena2/corridor1\n",
      "Warning: 231130_TNT_Fine_2_Videos_Tracked_arena2_corridor1 is inactive at 1641.5862068965516\n",
      "Loading fly from /mnt/upramdya_data/MD/MultiMazeRecorder/Videos/231130_TNT_Fine_2_Videos_Tracked/arena2/corridor4\n",
      "Loading fly from /mnt/upramdya_data/MD/MultiMazeRecorder/Videos/231130_TNT_Fine_2_Videos_Tracked/arena2/corridor2\n",
      "Loading fly from /mnt/upramdya_data/MD/MultiMazeRecorder/Videos/231130_TNT_Fine_2_Videos_Tracked/arena2/corridor6\n",
      "Warning: 231130_TNT_Fine_2_Videos_Tracked_arena2_corridor6 is inactive at 573.0689655172414\n",
      "Loading fly from /mnt/upramdya_data/MD/MultiMazeRecorder/Videos/231130_TNT_Fine_2_Videos_Tracked/arena2/corridor3\n",
      "Warning: 231130_TNT_Fine_2_Videos_Tracked_arena2_corridor3 is inactive at 1794.7241379310344\n",
      "Loading fly from /mnt/upramdya_data/MD/MultiMazeRecorder/Videos/231130_TNT_Fine_2_Videos_Tracked/arena7/corridor5\n",
      "Loading fly from /mnt/upramdya_data/MD/MultiMazeRecorder/Videos/231130_TNT_Fine_2_Videos_Tracked/arena7/corridor1\n",
      "Loading fly from /mnt/upramdya_data/MD/MultiMazeRecorder/Videos/231130_TNT_Fine_2_Videos_Tracked/arena7/corridor4\n",
      "Loading fly from /mnt/upramdya_data/MD/MultiMazeRecorder/Videos/231130_TNT_Fine_2_Videos_Tracked/arena7/corridor2\n",
      "Loading fly from /mnt/upramdya_data/MD/MultiMazeRecorder/Videos/231130_TNT_Fine_2_Videos_Tracked/arena7/corridor6\n",
      "Loading fly from /mnt/upramdya_data/MD/MultiMazeRecorder/Videos/231130_TNT_Fine_2_Videos_Tracked/arena7/corridor3\n",
      "Loading fly from /mnt/upramdya_data/MD/MultiMazeRecorder/Videos/231130_TNT_Fine_2_Videos_Tracked/arena6/corridor5\n",
      "Loading fly from /mnt/upramdya_data/MD/MultiMazeRecorder/Videos/231130_TNT_Fine_2_Videos_Tracked/arena6/corridor1\n",
      "Loading fly from /mnt/upramdya_data/MD/MultiMazeRecorder/Videos/231130_TNT_Fine_2_Videos_Tracked/arena6/corridor4\n",
      "Loading fly from /mnt/upramdya_data/MD/MultiMazeRecorder/Videos/231130_TNT_Fine_2_Videos_Tracked/arena6/corridor2\n",
      "Loading fly from /mnt/upramdya_data/MD/MultiMazeRecorder/Videos/231130_TNT_Fine_2_Videos_Tracked/arena6/corridor6\n",
      "Loading fly from /mnt/upramdya_data/MD/MultiMazeRecorder/Videos/231130_TNT_Fine_2_Videos_Tracked/arena6/corridor3\n",
      "Loading fly from /mnt/upramdya_data/MD/MultiMazeRecorder/Videos/231130_TNT_Fine_2_Videos_Tracked/arena5/corridor5\n",
      "Loading fly from /mnt/upramdya_data/MD/MultiMazeRecorder/Videos/231130_TNT_Fine_2_Videos_Tracked/arena5/corridor1\n",
      "Loading fly from /mnt/upramdya_data/MD/MultiMazeRecorder/Videos/231130_TNT_Fine_2_Videos_Tracked/arena5/corridor4\n",
      "Loading fly from /mnt/upramdya_data/MD/MultiMazeRecorder/Videos/231130_TNT_Fine_2_Videos_Tracked/arena5/corridor2\n",
      "Warning: 231130_TNT_Fine_2_Videos_Tracked_arena5_corridor2 is inactive at 0.06896551724137931\n",
      "Loading fly from /mnt/upramdya_data/MD/MultiMazeRecorder/Videos/231130_TNT_Fine_2_Videos_Tracked/arena5/corridor6\n",
      "Warning: 231130_TNT_Fine_2_Videos_Tracked_arena5_corridor6 is inactive at 233.20689655172413\n",
      "Loading fly from /mnt/upramdya_data/MD/MultiMazeRecorder/Videos/231130_TNT_Fine_2_Videos_Tracked/arena5/corridor3\n",
      "Loading fly from /mnt/upramdya_data/MD/MultiMazeRecorder/Videos/231130_TNT_Fine_2_Videos_Tracked/arena8/corridor5\n",
      "Warning: 231130_TNT_Fine_2_Videos_Tracked_arena8_corridor5 is inactive at 823.2068965517242\n",
      "Loading fly from /mnt/upramdya_data/MD/MultiMazeRecorder/Videos/231130_TNT_Fine_2_Videos_Tracked/arena8/corridor1\n",
      "Warning: 231130_TNT_Fine_2_Videos_Tracked_arena8_corridor1 is inactive at 0.06896551724137931\n",
      "Loading fly from /mnt/upramdya_data/MD/MultiMazeRecorder/Videos/231130_TNT_Fine_2_Videos_Tracked/arena8/corridor4\n",
      "Warning: 231130_TNT_Fine_2_Videos_Tracked_arena8_corridor4 is inactive at 698.2413793103449\n",
      "Loading fly from /mnt/upramdya_data/MD/MultiMazeRecorder/Videos/231130_TNT_Fine_2_Videos_Tracked/arena8/corridor2\n",
      "Warning: 231130_TNT_Fine_2_Videos_Tracked_arena8_corridor2 is inactive at 537.5862068965517\n",
      "Loading fly from /mnt/upramdya_data/MD/MultiMazeRecorder/Videos/231130_TNT_Fine_2_Videos_Tracked/arena8/corridor6\n",
      "Warning: 231130_TNT_Fine_2_Videos_Tracked_arena8_corridor6 is inactive at 1102.2413793103449\n",
      "Loading fly from /mnt/upramdya_data/MD/MultiMazeRecorder/Videos/231130_TNT_Fine_2_Videos_Tracked/arena8/corridor3\n",
      "Warning: 231130_TNT_Fine_2_Videos_Tracked_arena8_corridor3 is inactive at 0.06896551724137931\n",
      "Loading fly from /mnt/upramdya_data/MD/MultiMazeRecorder/Videos/231130_TNT_Fine_2_Videos_Tracked/arena3/corridor5\n",
      "Loading fly from /mnt/upramdya_data/MD/MultiMazeRecorder/Videos/231130_TNT_Fine_2_Videos_Tracked/arena3/corridor1\n",
      "Loading fly from /mnt/upramdya_data/MD/MultiMazeRecorder/Videos/231130_TNT_Fine_2_Videos_Tracked/arena3/corridor4\n",
      "Loading fly from /mnt/upramdya_data/MD/MultiMazeRecorder/Videos/231130_TNT_Fine_2_Videos_Tracked/arena3/corridor2\n",
      "Loading fly from /mnt/upramdya_data/MD/MultiMazeRecorder/Videos/231130_TNT_Fine_2_Videos_Tracked/arena3/corridor6\n",
      "Loading fly from /mnt/upramdya_data/MD/MultiMazeRecorder/Videos/231130_TNT_Fine_2_Videos_Tracked/arena3/corridor3\n",
      "Loading fly from /mnt/upramdya_data/MD/MultiMazeRecorder/Videos/231130_TNT_Fine_2_Videos_Tracked/arena4/corridor5\n",
      "Loading fly from /mnt/upramdya_data/MD/MultiMazeRecorder/Videos/231130_TNT_Fine_2_Videos_Tracked/arena4/corridor1\n",
      "Loading fly from /mnt/upramdya_data/MD/MultiMazeRecorder/Videos/231130_TNT_Fine_2_Videos_Tracked/arena4/corridor4\n",
      "Loading fly from /mnt/upramdya_data/MD/MultiMazeRecorder/Videos/231130_TNT_Fine_2_Videos_Tracked/arena4/corridor2\n",
      "Loading fly from /mnt/upramdya_data/MD/MultiMazeRecorder/Videos/231130_TNT_Fine_2_Videos_Tracked/arena4/corridor6\n",
      "Loading fly from /mnt/upramdya_data/MD/MultiMazeRecorder/Videos/231130_TNT_Fine_2_Videos_Tracked/arena4/corridor3\n",
      "Loading fly from /mnt/upramdya_data/MD/MultiMazeRecorder/Videos/231130_TNT_Fine_2_Videos_Tracked/arena1/corridor5\n",
      "Genotype is None: 231130_TNT_Fine_2_Videos_Tracked_arena1_corridor5 is empty.\n",
      "Error while loading fly from /mnt/upramdya_data/MD/MultiMazeRecorder/Videos/231130_TNT_Fine_2_Videos_Tracked/arena1/corridor5: cannot unpack non-iterable NoneType object\n",
      "Loading fly from /mnt/upramdya_data/MD/MultiMazeRecorder/Videos/231130_TNT_Fine_2_Videos_Tracked/arena1/corridor1\n",
      "Genotype is None: 231130_TNT_Fine_2_Videos_Tracked_arena1_corridor1 is empty.\n",
      "Error while loading fly from /mnt/upramdya_data/MD/MultiMazeRecorder/Videos/231130_TNT_Fine_2_Videos_Tracked/arena1/corridor1: cannot unpack non-iterable NoneType object\n",
      "Loading fly from /mnt/upramdya_data/MD/MultiMazeRecorder/Videos/231130_TNT_Fine_2_Videos_Tracked/arena1/corridor4\n",
      "Genotype is None: 231130_TNT_Fine_2_Videos_Tracked_arena1_corridor4 is empty.\n",
      "Error while loading fly from /mnt/upramdya_data/MD/MultiMazeRecorder/Videos/231130_TNT_Fine_2_Videos_Tracked/arena1/corridor4: cannot unpack non-iterable NoneType object\n",
      "Loading fly from /mnt/upramdya_data/MD/MultiMazeRecorder/Videos/231130_TNT_Fine_2_Videos_Tracked/arena1/corridor2\n",
      "Genotype is None: 231130_TNT_Fine_2_Videos_Tracked_arena1_corridor2 is empty.\n",
      "Error while loading fly from /mnt/upramdya_data/MD/MultiMazeRecorder/Videos/231130_TNT_Fine_2_Videos_Tracked/arena1/corridor2: cannot unpack non-iterable NoneType object\n",
      "Loading fly from /mnt/upramdya_data/MD/MultiMazeRecorder/Videos/231130_TNT_Fine_2_Videos_Tracked/arena1/corridor6\n",
      "Genotype is None: 231130_TNT_Fine_2_Videos_Tracked_arena1_corridor6 is empty.\n",
      "Error while loading fly from /mnt/upramdya_data/MD/MultiMazeRecorder/Videos/231130_TNT_Fine_2_Videos_Tracked/arena1/corridor6: cannot unpack non-iterable NoneType object\n",
      "Loading fly from /mnt/upramdya_data/MD/MultiMazeRecorder/Videos/231130_TNT_Fine_2_Videos_Tracked/arena1/corridor3\n",
      "Genotype is None: 231130_TNT_Fine_2_Videos_Tracked_arena1_corridor3 is empty.\n",
      "Error while loading fly from /mnt/upramdya_data/MD/MultiMazeRecorder/Videos/231130_TNT_Fine_2_Videos_Tracked/arena1/corridor3: cannot unpack non-iterable NoneType object\n",
      "Loading fly from /mnt/upramdya_data/MD/MultiMazeRecorder/Videos/231130_TNT_Fine_2_Videos_Tracked/arena9/corridor5\n",
      "Loading fly from /mnt/upramdya_data/MD/MultiMazeRecorder/Videos/231130_TNT_Fine_2_Videos_Tracked/arena9/corridor1\n",
      "Loading fly from /mnt/upramdya_data/MD/MultiMazeRecorder/Videos/231130_TNT_Fine_2_Videos_Tracked/arena9/corridor4\n",
      "Loading fly from /mnt/upramdya_data/MD/MultiMazeRecorder/Videos/231130_TNT_Fine_2_Videos_Tracked/arena9/corridor2\n",
      "Loading fly from /mnt/upramdya_data/MD/MultiMazeRecorder/Videos/231130_TNT_Fine_2_Videos_Tracked/arena9/corridor6\n",
      "Loading fly from /mnt/upramdya_data/MD/MultiMazeRecorder/Videos/231130_TNT_Fine_2_Videos_Tracked/arena9/corridor3\n",
      "Warning: 231130_TNT_Fine_2_Videos_Tracked_arena9_corridor3 is inactive at 1344.2068965517242\n"
     ]
    }
   ],
   "source": [
    "ExampleExperiment_path = Path(\n",
    "    \"/mnt/upramdya_data/MD/MultiMazeRecorder/Videos/231130_TNT_Fine_2_Videos_Tracked/\"\n",
    ")\n",
    "ExampleExperiment = Experiment(\n",
    "    ExampleExperiment_path,\n",
    ")"
   ]
  },
  {
   "cell_type": "code",
   "execution_count": 9,
   "id": "4fa15547",
   "metadata": {},
   "outputs": [
    {
     "name": "stdout",
     "output_type": "stream",
     "text": [
      "Average adjusted interaction duration: 6.92 seconds or 200.80 frames\n",
      "Average adjusted interaction duration: 6.29 seconds or 182.40 frames\n",
      "Average adjusted interaction duration: 6.20 seconds or 179.71 frames\n",
      "Average adjusted interaction duration: 6.21 seconds or 180.08 frames\n",
      "Average adjusted interaction duration: 6.12 seconds or 177.61 frames\n",
      "Average adjusted interaction duration: 6.51 seconds or 188.68 frames\n",
      "Average adjusted interaction duration: 6.55 seconds or 190.05 frames\n",
      "Average adjusted interaction duration: 6.44 seconds or 186.77 frames\n",
      "Average adjusted interaction duration: 6.59 seconds or 191.13 frames\n",
      "Average adjusted interaction duration: 6.45 seconds or 186.94 frames\n",
      "Average adjusted interaction duration: 6.41 seconds or 185.94 frames\n",
      "Average adjusted interaction duration: 6.71 seconds or 194.64 frames\n",
      "Average adjusted interaction duration: 6.57 seconds or 190.67 frames\n",
      "Average adjusted interaction duration: 6.70 seconds or 194.41 frames\n",
      "Average adjusted interaction duration: 6.81 seconds or 197.42 frames\n",
      "Average adjusted interaction duration: 6.85 seconds or 198.55 frames\n",
      "Average adjusted interaction duration: 6.79 seconds or 196.93 frames\n",
      "Average adjusted interaction duration: 6.52 seconds or 188.99 frames\n",
      "Average adjusted interaction duration: 6.75 seconds or 195.74 frames\n",
      "Average adjusted interaction duration: 6.69 seconds or 193.91 frames\n",
      "Average adjusted interaction duration: 6.63 seconds or 192.28 frames\n",
      "Average adjusted interaction duration: 6.58 seconds or 190.94 frames\n",
      "Average adjusted interaction duration: 6.60 seconds or 191.43 frames\n",
      "Average adjusted interaction duration: 6.65 seconds or 192.96 frames\n",
      "Average adjusted interaction duration: 6.74 seconds or 195.49 frames\n",
      "Average adjusted interaction duration: 6.67 seconds or 193.29 frames\n",
      "Average adjusted interaction duration: 6.61 seconds or 191.72 frames\n",
      "Average adjusted interaction duration: 7.06 seconds or 204.78 frames\n",
      "Average adjusted interaction duration: 7.02 seconds or 203.47 frames\n",
      "Average adjusted interaction duration: 6.96 seconds or 201.79 frames\n",
      "Average adjusted interaction duration: 6.95 seconds or 201.55 frames\n",
      "Average adjusted interaction duration: 6.97 seconds or 202.20 frames\n",
      "Average adjusted interaction duration: 6.95 seconds or 201.63 frames\n",
      "Average adjusted interaction duration: 6.98 seconds or 202.49 frames\n",
      "Average adjusted interaction duration: 7.00 seconds or 203.12 frames\n",
      "Average adjusted interaction duration: 7.01 seconds or 203.25 frames\n",
      "Average adjusted interaction duration: 7.12 seconds or 206.57 frames\n",
      "Average adjusted interaction duration: 7.00 seconds or 203.05 frames\n",
      "Average adjusted interaction duration: 7.00 seconds or 202.98 frames\n",
      "Average adjusted interaction duration: 6.98 seconds or 202.30 frames\n",
      "Average adjusted interaction duration: 6.97 seconds or 202.16 frames\n",
      "Average adjusted interaction duration: 6.96 seconds or 201.97 frames\n",
      "Average adjusted interaction duration: 7.01 seconds or 203.27 frames\n",
      "Average adjusted interaction duration: 7.02 seconds or 203.72 frames\n",
      "Average adjusted interaction duration: 7.17 seconds or 207.91 frames\n",
      "Average adjusted interaction duration: 7.14 seconds or 207.19 frames\n",
      "Average adjusted interaction duration: 7.10 seconds or 206.00 frames\n",
      "Average adjusted interaction duration: 7.12 seconds or 206.37 frames\n"
     ]
    }
   ],
   "source": [
    "# For each fly, get the adjusted interaction durations\n",
    "adjusted_interaction_durations_all_flies = []\n",
    "\n",
    "for fly in ExampleExperiment.flies:\n",
    "    interaction_events = fly.tracking_data.interaction_events[0][0]\n",
    "    interaction_onsets = fly.tracking_data.interactions_onsets[0, 0]\n",
    "\n",
    "    # Ensure interaction_onsets and interaction_events have the same length\n",
    "    if len(interaction_onsets) != len(interaction_events):\n",
    "        raise ValueError(\"Mismatch between the number of interaction onsets and interaction events.\")\n",
    "\n",
    "    for i, event in enumerate(interaction_events):\n",
    "        try:\n",
    "            start_time = interaction_onsets[i]\n",
    "            end_time = event[1]\n",
    "            if start_time is None or end_time is None:\n",
    "                raise ValueError(f\"Invalid start or end time for event {i}.\")\n",
    "            adjusted_duration = end_time - start_time\n",
    "            adjusted_interaction_durations.append(adjusted_duration)\n",
    "        except Exception as e:\n",
    "            print(f\"Error processing event {i}: {e}\")\n",
    "\n",
    "    # Calculate the average adjusted interaction duration\n",
    "    if adjusted_interaction_durations:\n",
    "        average_adjusted_interaction_duration = sum(adjusted_interaction_durations) / len(adjusted_interaction_durations)\n",
    "\n",
    "        average_adjusted_interaction_duration_time = average_adjusted_interaction_duration / ExampleFly.experiment.fps\n",
    "        print(\n",
    "            f\"Average adjusted interaction duration: {average_adjusted_interaction_duration_time:.2f} seconds or {average_adjusted_interaction_duration:.2f} frames\"\n",
    "        )\n",
    "\n",
    "        adjusted_interaction_durations_all_flies.append(adjusted_interaction_durations)\n",
    "    else:\n",
    "        print(\"No valid adjusted interaction durations to calculate an average.\")"
   ]
  },
  {
   "cell_type": "code",
   "execution_count": 10,
   "id": "6eafe697",
   "metadata": {},
   "outputs": [
    {
     "name": "stdout",
     "output_type": "stream",
     "text": [
      "Average adjusted interaction duration across all flies: 7.12 seconds or 206.37 frames\n"
     ]
    }
   ],
   "source": [
    "# Get the average adjusted interaction duration across all flies\n",
    "\n",
    "if adjusted_interaction_durations_all_flies:\n",
    "    all_durations_flat = [duration for sublist in adjusted_interaction_durations_all_flies for duration in sublist]\n",
    "    average_adjusted_interaction_duration_all_flies = sum(all_durations_flat) / len(all_durations_flat)\n",
    "\n",
    "    average_adjusted_interaction_duration_time_all_flies = average_adjusted_interaction_duration_all_flies / ExampleFly.experiment.fps\n",
    "    print(\n",
    "        f\"Average adjusted interaction duration across all flies: {average_adjusted_interaction_duration_time_all_flies:.2f} seconds or {average_adjusted_interaction_duration_all_flies:.2f} frames\"\n",
    "    )\n",
    "else:\n",
    "    print(\"No valid adjusted interaction durations to calculate an average across all flies.\")"
   ]
  },
  {
   "cell_type": "code",
   "execution_count": null,
   "id": "9fe5be8d",
   "metadata": {},
   "outputs": [],
   "source": []
  },
  {
   "cell_type": "code",
   "execution_count": 11,
   "id": "47249258",
   "metadata": {},
   "outputs": [
    {
     "data": {
      "image/png": "[encoded data removed]",
      "text/plain": [
       "<Figure size 1000x600 with 1 Axes>"
      ]
     },
     "metadata": {},
     "output_type": "display_data"
    }
   ],
   "source": [
    "# Generate an histogram of the adjusted interaction durations\n",
    "\n",
    "plt.figure(figsize=(10, 6))\n",
    "\n",
    "sns.histplot(\n",
    "    adjusted_interaction_durations_all_flies,\n",
    "    bins=30,\n",
    "    kde=False,\n",
    "    color=\"blue\",\n",
    ")\n",
    "\n",
    "# Remove legend\n",
    "plt.legend().remove()\n",
    "\n",
    "plt.savefig(output_dir /\"adjusted_interaction_durations_histogram.png\", dpi=300)\n",
    "plt.show()"
   ]
  },
  {
   "cell_type": "markdown",
   "id": "369561de",
   "metadata": {},
   "source": [
    "Data is skewed, actually although the average is 200, most interactions are found at much lower value"
   ]
  },
  {
   "cell_type": "code",
   "execution_count": 12,
   "id": "788747f1",
   "metadata": {},
   "outputs": [
    {
     "name": "stdout",
     "output_type": "stream",
     "text": [
      "Median adjusted interaction duration across all flies: 153.50 frames\n"
     ]
    }
   ],
   "source": [
    "# Compute the median of the adjusted interaction durations\n",
    "\n",
    "median_adjusted_interaction_duration = np.median(adjusted_interaction_durations_all_flies)\n",
    "\n",
    "print(\n",
    "    f\"Median adjusted interaction duration across all flies: {median_adjusted_interaction_duration:.2f} frames\"\n",
    ")"
   ]
  },
  {
   "cell_type": "markdown",
   "id": "97a635b9",
   "metadata": {},
   "source": [
    "Let's also generate some bootstrapped confidence interval of the median"
   ]
  },
  {
   "cell_type": "code",
   "execution_count": 13,
   "id": "5c3ccc1d",
   "metadata": {},
   "outputs": [
    {
     "data": {
      "text/plain": [
       "array([153.5, 153.5])"
      ]
     },
     "execution_count": 13,
     "metadata": {},
     "output_type": "execute_result"
    }
   ],
   "source": [
    "bs_ci_median = Processing.draw_bs_ci(\n",
    "    adjusted_interaction_durations_all_flies,\n",
    "    func=np.median,\n",
    "    n_reps=1000,\n",
    ")\n",
    "\n",
    "bs_ci_median"
   ]
  },
  {
   "cell_type": "code",
   "execution_count": 14,
   "id": "67b4bbab",
   "metadata": {},
   "outputs": [
    {
     "data": {
      "text/plain": [
       "array([206.36893204, 206.36893204])"
      ]
     },
     "execution_count": 14,
     "metadata": {},
     "output_type": "execute_result"
    }
   ],
   "source": [
    "bs_ci_mean = Processing.draw_bs_ci(\n",
    "    adjusted_interaction_durations_all_flies,\n",
    "    func=np.mean,\n",
    "    n_reps=1000,\n",
    ")\n",
    "bs_ci_mean"
   ]
  },
  {
   "cell_type": "markdown",
   "id": "dd3908e4",
   "metadata": {},
   "source": [
    "Here we can see that the bootstrapped interval is super narrow around 115 for median and 210 for mean. Data being very skewed, it is likely that median is a better indicator, so 115 frames makes sense."
   ]
  },
  {
   "cell_type": "code",
   "execution_count": 15,
   "id": "46a3b633",
   "metadata": {},
   "outputs": [
    {
     "data": {
      "image/png": "[encoded data removed]",
      "text/plain": [
       "<Figure size 1000x600 with 1 Axes>"
      ]
     },
     "metadata": {},
     "output_type": "display_data"
    }
   ],
   "source": [
    "# Redo the histogram with the mean and median as vertical lines\n",
    "\n",
    "plt.figure(figsize=(10, 6))\n",
    "\n",
    "sns.histplot(\n",
    "    adjusted_interaction_durations_all_flies,\n",
    "    bins=30,\n",
    "    kde=False,\n",
    "    color=\"blue\",\n",
    ")\n",
    "\n",
    "# Add mean and median lines\n",
    "\n",
    "plt.axvline(\n",
    "    x=average_adjusted_interaction_duration_all_flies,\n",
    "    color=\"red\",\n",
    "    linestyle=\"--\",\n",
    "    label=f\"Mean: {bs_ci_mean[0]:.2f} frames\",\n",
    ")\n",
    "\n",
    "plt.axvline(\n",
    "    x=median_adjusted_interaction_duration,\n",
    "    color=\"green\",\n",
    "    linestyle=\"--\",\n",
    "    label=f\"Median: {bs_ci_median[0]:.2f} frames\",\n",
    ")\n",
    "\n",
    "\n",
    "# Remove legend\n",
    "plt.legend().remove()\n",
    "plt.savefig(output_dir /\"adjusted_interaction_durations_histogram_with_mean_median.png\", dpi=300)"
   ]
  },
  {
   "cell_type": "code",
   "execution_count": null,
   "id": "747cddc2",
   "metadata": {},
   "outputs": [],
   "source": []
  }
 ],
 "metadata": {
  "kernelspec": {
   "display_name": "tracking_analysis",
   "language": "python",
   "name": "python3"
  },
  "language_info": {
   "codemirror_mode": {
    "name": "ipython",
    "version": 3
   },
   "file_extension": ".py",
   "mimetype": "text/x-python",
   "name": "python",
   "nbconvert_exporter": "python",
   "pygments_lexer": "ipython3",
   "version": "3.12.6"
  }
 },
 "nbformat": 4,
 "nbformat_minor": 5
}
