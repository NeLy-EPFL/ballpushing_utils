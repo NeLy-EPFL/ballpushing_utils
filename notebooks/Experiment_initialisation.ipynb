{
 "cells": [
  {
   "cell_type": "markdown",
   "metadata": {},
   "source": [
    "# Fly and experiment objects initialisation\n",
    "\n",
    "This notebook tests core functions of fly and experiment objects in order to make sure both are loaded properly."
   ]
  },
  {
   "cell_type": "markdown",
   "metadata": {},
   "source": [
    "## Imports"
   ]
  },
  {
   "cell_type": "code",
   "execution_count": 4,
   "metadata": {},
   "outputs": [
    {
     "name": "stderr",
     "output_type": "stream",
     "text": [
      "<frozen importlib._bootstrap>:488: RuntimeWarning: Your system is avx2 capable but pygame was not built with support for it. The performance of some of your blits could be adversely affected. Consider enabling compile time detection with environment variables like PYGAME_DETECT_AVX2=1 if you are compiling without cross compilation.\n"
     ]
    },
    {
     "name": "stdout",
     "output_type": "stream",
     "text": [
      "pygame 2.6.0 (SDL 2.30.7, Python 3.12.6)\n",
      "Hello from the pygame community. https://www.pygame.org/contribute.html\n"
     ]
    }
   ],
   "source": [
    "from pathlib import Path\n",
    "import sys\n",
    "\n",
    "src_path = Path.cwd().parent / \"src\"\n",
    "if src_path not in sys.path:\n",
    "    sys.path.append(str(src_path))\n",
    "\n",
    "from Ballpushing_utils import Experiment, Fly"
   ]
  },
  {
   "cell_type": "markdown",
   "metadata": {},
   "source": [
    "## Example Fly"
   ]
  },
  {
   "cell_type": "code",
   "execution_count": 5,
   "metadata": {},
   "outputs": [
    {
     "name": "stdout",
     "output_type": "stream",
     "text": [
      "Config loaded with the following parameters:\n",
      "debugging: False\n",
      "experiment_type: Learning\n",
      "time_range: None\n",
      "success_cutoff: False\n",
      "success_cutoff_method: final_event\n",
      "tracks_smoothing: True\n",
      "downsampling_factor: None\n",
      "generate_random: False\n",
      "random_exclude_interactions: True\n",
      "random_interaction_map: full\n",
      "interaction_threshold: (0, 45)\n",
      "gap_between_events: 1\n",
      "events_min_length: 1\n",
      "dead_threshold: 30\n",
      "adjusted_events_normalisation: 1000\n",
      "significant_threshold: 5\n",
      "aha_moment_threshold: 20\n",
      "success_direction_threshold: 25\n",
      "final_event_threshold: 170\n",
      "final_event_F1_threshold: 100\n",
      "max_event_threshold: 10\n",
      "template_width: 96\n",
      "template_height: 516\n",
      "padding: 20\n",
      "y_crop: (74, 0)\n",
      "contact_threshold: (0, 13)\n",
      "gap_between_contacts: 0.5\n",
      "contact_min_length: 0.5\n",
      "skeleton_tracks_smoothing: False\n",
      "hidden_value: 9999\n"
     ]
    }
   ],
   "source": [
    "ExampleFly_path = Path(\n",
    "    \"/mnt/upramdya_data/MD/MultiMazeRecorder/Videos/231130_TNT_Fine_2_Videos_Tracked/arena2/corridor5\"\n",
    ")\n",
    "\n",
    "ExampleFly = Fly(ExampleFly_path, as_individual=True)"
   ]
  },
  {
   "cell_type": "markdown",
   "metadata": {},
   "source": [
    "## Example Experiment"
   ]
  },
  {
   "cell_type": "code",
   "execution_count": 6,
   "metadata": {},
   "outputs": [
    {
     "name": "stdout",
     "output_type": "stream",
     "text": [
      "Config loaded with the following parameters:\n",
      "debugging: False\n",
      "experiment_type: Learning\n",
      "time_range: None\n",
      "success_cutoff: False\n",
      "success_cutoff_method: final_event\n",
      "tracks_smoothing: True\n",
      "downsampling_factor: None\n",
      "generate_random: False\n",
      "random_exclude_interactions: True\n",
      "random_interaction_map: full\n",
      "interaction_threshold: (0, 45)\n",
      "gap_between_events: 1\n",
      "events_min_length: 1\n",
      "dead_threshold: 30\n",
      "adjusted_events_normalisation: 1000\n",
      "significant_threshold: 5\n",
      "aha_moment_threshold: 20\n",
      "success_direction_threshold: 25\n",
      "final_event_threshold: 170\n",
      "final_event_F1_threshold: 100\n",
      "max_event_threshold: 10\n",
      "template_width: 96\n",
      "template_height: 516\n",
      "padding: 20\n",
      "y_crop: (74, 0)\n",
      "contact_threshold: (0, 13)\n",
      "gap_between_contacts: 0.5\n",
      "contact_min_length: 0.5\n",
      "skeleton_tracks_smoothing: False\n",
      "hidden_value: 9999\n",
      "Loading fly from /mnt/upramdya_data/MD/MultiMazeRecorder/Videos/231130_TNT_Fine_2_Videos_Tracked/arena2/corridor5\n",
      "Loading fly from /mnt/upramdya_data/MD/MultiMazeRecorder/Videos/231130_TNT_Fine_2_Videos_Tracked/arena2/corridor1\n",
      "Warning: 231130_TNT_Fine_2_Videos_Tracked_arena2_corridor1 is inactive at 1641.5862068965516\n",
      "Loading fly from /mnt/upramdya_data/MD/MultiMazeRecorder/Videos/231130_TNT_Fine_2_Videos_Tracked/arena2/corridor4\n",
      "Loading fly from /mnt/upramdya_data/MD/MultiMazeRecorder/Videos/231130_TNT_Fine_2_Videos_Tracked/arena2/corridor2\n",
      "Loading fly from /mnt/upramdya_data/MD/MultiMazeRecorder/Videos/231130_TNT_Fine_2_Videos_Tracked/arena2/corridor6\n",
      "Warning: 231130_TNT_Fine_2_Videos_Tracked_arena2_corridor6 is inactive at 573.0689655172414\n",
      "Loading fly from /mnt/upramdya_data/MD/MultiMazeRecorder/Videos/231130_TNT_Fine_2_Videos_Tracked/arena2/corridor3\n",
      "Warning: 231130_TNT_Fine_2_Videos_Tracked_arena2_corridor3 is inactive at 1794.7241379310344\n",
      "Loading fly from /mnt/upramdya_data/MD/MultiMazeRecorder/Videos/231130_TNT_Fine_2_Videos_Tracked/arena7/corridor5\n",
      "Loading fly from /mnt/upramdya_data/MD/MultiMazeRecorder/Videos/231130_TNT_Fine_2_Videos_Tracked/arena7/corridor1\n",
      "Loading fly from /mnt/upramdya_data/MD/MultiMazeRecorder/Videos/231130_TNT_Fine_2_Videos_Tracked/arena7/corridor4\n",
      "Loading fly from /mnt/upramdya_data/MD/MultiMazeRecorder/Videos/231130_TNT_Fine_2_Videos_Tracked/arena7/corridor2\n",
      "Loading fly from /mnt/upramdya_data/MD/MultiMazeRecorder/Videos/231130_TNT_Fine_2_Videos_Tracked/arena7/corridor6\n",
      "Loading fly from /mnt/upramdya_data/MD/MultiMazeRecorder/Videos/231130_TNT_Fine_2_Videos_Tracked/arena7/corridor3\n",
      "Loading fly from /mnt/upramdya_data/MD/MultiMazeRecorder/Videos/231130_TNT_Fine_2_Videos_Tracked/arena6/corridor5\n",
      "Loading fly from /mnt/upramdya_data/MD/MultiMazeRecorder/Videos/231130_TNT_Fine_2_Videos_Tracked/arena6/corridor1\n",
      "Loading fly from /mnt/upramdya_data/MD/MultiMazeRecorder/Videos/231130_TNT_Fine_2_Videos_Tracked/arena6/corridor4\n",
      "Loading fly from /mnt/upramdya_data/MD/MultiMazeRecorder/Videos/231130_TNT_Fine_2_Videos_Tracked/arena6/corridor2\n",
      "Loading fly from /mnt/upramdya_data/MD/MultiMazeRecorder/Videos/231130_TNT_Fine_2_Videos_Tracked/arena6/corridor6\n",
      "Loading fly from /mnt/upramdya_data/MD/MultiMazeRecorder/Videos/231130_TNT_Fine_2_Videos_Tracked/arena6/corridor3\n",
      "Loading fly from /mnt/upramdya_data/MD/MultiMazeRecorder/Videos/231130_TNT_Fine_2_Videos_Tracked/arena5/corridor5\n",
      "Loading fly from /mnt/upramdya_data/MD/MultiMazeRecorder/Videos/231130_TNT_Fine_2_Videos_Tracked/arena5/corridor1\n",
      "Loading fly from /mnt/upramdya_data/MD/MultiMazeRecorder/Videos/231130_TNT_Fine_2_Videos_Tracked/arena5/corridor4\n",
      "Loading fly from /mnt/upramdya_data/MD/MultiMazeRecorder/Videos/231130_TNT_Fine_2_Videos_Tracked/arena5/corridor2\n",
      "Warning: 231130_TNT_Fine_2_Videos_Tracked_arena5_corridor2 is inactive at 0.06896551724137931\n",
      "Loading fly from /mnt/upramdya_data/MD/MultiMazeRecorder/Videos/231130_TNT_Fine_2_Videos_Tracked/arena5/corridor6\n",
      "Warning: 231130_TNT_Fine_2_Videos_Tracked_arena5_corridor6 is inactive at 233.20689655172413\n",
      "Loading fly from /mnt/upramdya_data/MD/MultiMazeRecorder/Videos/231130_TNT_Fine_2_Videos_Tracked/arena5/corridor3\n",
      "Loading fly from /mnt/upramdya_data/MD/MultiMazeRecorder/Videos/231130_TNT_Fine_2_Videos_Tracked/arena8/corridor5\n",
      "Warning: 231130_TNT_Fine_2_Videos_Tracked_arena8_corridor5 is inactive at 823.2068965517242\n",
      "Loading fly from /mnt/upramdya_data/MD/MultiMazeRecorder/Videos/231130_TNT_Fine_2_Videos_Tracked/arena8/corridor1\n",
      "Warning: 231130_TNT_Fine_2_Videos_Tracked_arena8_corridor1 is inactive at 0.06896551724137931\n",
      "Loading fly from /mnt/upramdya_data/MD/MultiMazeRecorder/Videos/231130_TNT_Fine_2_Videos_Tracked/arena8/corridor4\n",
      "Warning: 231130_TNT_Fine_2_Videos_Tracked_arena8_corridor4 is inactive at 698.2413793103449\n",
      "Loading fly from /mnt/upramdya_data/MD/MultiMazeRecorder/Videos/231130_TNT_Fine_2_Videos_Tracked/arena8/corridor2\n",
      "Warning: 231130_TNT_Fine_2_Videos_Tracked_arena8_corridor2 is inactive at 537.5862068965517\n",
      "Loading fly from /mnt/upramdya_data/MD/MultiMazeRecorder/Videos/231130_TNT_Fine_2_Videos_Tracked/arena8/corridor6\n",
      "Warning: 231130_TNT_Fine_2_Videos_Tracked_arena8_corridor6 is inactive at 1102.2413793103449\n",
      "Loading fly from /mnt/upramdya_data/MD/MultiMazeRecorder/Videos/231130_TNT_Fine_2_Videos_Tracked/arena8/corridor3\n",
      "Warning: 231130_TNT_Fine_2_Videos_Tracked_arena8_corridor3 is inactive at 0.06896551724137931\n",
      "Loading fly from /mnt/upramdya_data/MD/MultiMazeRecorder/Videos/231130_TNT_Fine_2_Videos_Tracked/arena3/corridor5\n",
      "Loading fly from /mnt/upramdya_data/MD/MultiMazeRecorder/Videos/231130_TNT_Fine_2_Videos_Tracked/arena3/corridor1\n",
      "Loading fly from /mnt/upramdya_data/MD/MultiMazeRecorder/Videos/231130_TNT_Fine_2_Videos_Tracked/arena3/corridor4\n",
      "Loading fly from /mnt/upramdya_data/MD/MultiMazeRecorder/Videos/231130_TNT_Fine_2_Videos_Tracked/arena3/corridor2\n",
      "Loading fly from /mnt/upramdya_data/MD/MultiMazeRecorder/Videos/231130_TNT_Fine_2_Videos_Tracked/arena3/corridor6\n",
      "Loading fly from /mnt/upramdya_data/MD/MultiMazeRecorder/Videos/231130_TNT_Fine_2_Videos_Tracked/arena3/corridor3\n",
      "Loading fly from /mnt/upramdya_data/MD/MultiMazeRecorder/Videos/231130_TNT_Fine_2_Videos_Tracked/arena4/corridor5\n",
      "Loading fly from /mnt/upramdya_data/MD/MultiMazeRecorder/Videos/231130_TNT_Fine_2_Videos_Tracked/arena4/corridor1\n",
      "Loading fly from /mnt/upramdya_data/MD/MultiMazeRecorder/Videos/231130_TNT_Fine_2_Videos_Tracked/arena4/corridor4\n",
      "Loading fly from /mnt/upramdya_data/MD/MultiMazeRecorder/Videos/231130_TNT_Fine_2_Videos_Tracked/arena4/corridor2\n",
      "Loading fly from /mnt/upramdya_data/MD/MultiMazeRecorder/Videos/231130_TNT_Fine_2_Videos_Tracked/arena4/corridor6\n",
      "Loading fly from /mnt/upramdya_data/MD/MultiMazeRecorder/Videos/231130_TNT_Fine_2_Videos_Tracked/arena4/corridor3\n",
      "Loading fly from /mnt/upramdya_data/MD/MultiMazeRecorder/Videos/231130_TNT_Fine_2_Videos_Tracked/arena1/corridor5\n",
      "Genotype is None: 231130_TNT_Fine_2_Videos_Tracked_arena1_corridor5 is empty.\n",
      "Error while loading fly from /mnt/upramdya_data/MD/MultiMazeRecorder/Videos/231130_TNT_Fine_2_Videos_Tracked/arena1/corridor5: cannot unpack non-iterable NoneType object\n",
      "Loading fly from /mnt/upramdya_data/MD/MultiMazeRecorder/Videos/231130_TNT_Fine_2_Videos_Tracked/arena1/corridor1\n",
      "Genotype is None: 231130_TNT_Fine_2_Videos_Tracked_arena1_corridor1 is empty.\n",
      "Error while loading fly from /mnt/upramdya_data/MD/MultiMazeRecorder/Videos/231130_TNT_Fine_2_Videos_Tracked/arena1/corridor1: cannot unpack non-iterable NoneType object\n",
      "Loading fly from /mnt/upramdya_data/MD/MultiMazeRecorder/Videos/231130_TNT_Fine_2_Videos_Tracked/arena1/corridor4\n",
      "Genotype is None: 231130_TNT_Fine_2_Videos_Tracked_arena1_corridor4 is empty.\n",
      "Error while loading fly from /mnt/upramdya_data/MD/MultiMazeRecorder/Videos/231130_TNT_Fine_2_Videos_Tracked/arena1/corridor4: cannot unpack non-iterable NoneType object\n",
      "Loading fly from /mnt/upramdya_data/MD/MultiMazeRecorder/Videos/231130_TNT_Fine_2_Videos_Tracked/arena1/corridor2\n",
      "Genotype is None: 231130_TNT_Fine_2_Videos_Tracked_arena1_corridor2 is empty.\n",
      "Error while loading fly from /mnt/upramdya_data/MD/MultiMazeRecorder/Videos/231130_TNT_Fine_2_Videos_Tracked/arena1/corridor2: cannot unpack non-iterable NoneType object\n",
      "Loading fly from /mnt/upramdya_data/MD/MultiMazeRecorder/Videos/231130_TNT_Fine_2_Videos_Tracked/arena1/corridor6\n",
      "Genotype is None: 231130_TNT_Fine_2_Videos_Tracked_arena1_corridor6 is empty.\n",
      "Error while loading fly from /mnt/upramdya_data/MD/MultiMazeRecorder/Videos/231130_TNT_Fine_2_Videos_Tracked/arena1/corridor6: cannot unpack non-iterable NoneType object\n",
      "Loading fly from /mnt/upramdya_data/MD/MultiMazeRecorder/Videos/231130_TNT_Fine_2_Videos_Tracked/arena1/corridor3\n",
      "Genotype is None: 231130_TNT_Fine_2_Videos_Tracked_arena1_corridor3 is empty.\n",
      "Error while loading fly from /mnt/upramdya_data/MD/MultiMazeRecorder/Videos/231130_TNT_Fine_2_Videos_Tracked/arena1/corridor3: cannot unpack non-iterable NoneType object\n",
      "Loading fly from /mnt/upramdya_data/MD/MultiMazeRecorder/Videos/231130_TNT_Fine_2_Videos_Tracked/arena9/corridor5\n",
      "Loading fly from /mnt/upramdya_data/MD/MultiMazeRecorder/Videos/231130_TNT_Fine_2_Videos_Tracked/arena9/corridor1\n",
      "Loading fly from /mnt/upramdya_data/MD/MultiMazeRecorder/Videos/231130_TNT_Fine_2_Videos_Tracked/arena9/corridor4\n",
      "Loading fly from /mnt/upramdya_data/MD/MultiMazeRecorder/Videos/231130_TNT_Fine_2_Videos_Tracked/arena9/corridor2\n",
      "Loading fly from /mnt/upramdya_data/MD/MultiMazeRecorder/Videos/231130_TNT_Fine_2_Videos_Tracked/arena9/corridor6\n",
      "Loading fly from /mnt/upramdya_data/MD/MultiMazeRecorder/Videos/231130_TNT_Fine_2_Videos_Tracked/arena9/corridor3\n",
      "Warning: 231130_TNT_Fine_2_Videos_Tracked_arena9_corridor3 is inactive at 1344.2068965517242\n"
     ]
    }
   ],
   "source": [
    "ExampleExperiment_path = Path(\"/mnt/upramdya_data/MD/MultiMazeRecorder/Videos/231130_TNT_Fine_2_Videos_Tracked\")\n",
    "\n",
    "ExampleExperiment = Experiment(ExampleExperiment_path)"
   ]
  },
  {
   "cell_type": "code",
   "execution_count": null,
   "metadata": {},
   "outputs": [],
   "source": []
  }
 ],
 "metadata": {
  "kernelspec": {
   "display_name": "tracking_analysis",
   "language": "python",
   "name": "python3"
  },
  "language_info": {
   "codemirror_mode": {
    "name": "ipython",
    "version": 3
   },
   "file_extension": ".py",
   "mimetype": "text/x-python",
   "name": "python",
   "nbconvert_exporter": "python",
   "pygments_lexer": "ipython3",
   "version": "3.12.6"
  }
 },
 "nbformat": 4,
 "nbformat_minor": 2
}
