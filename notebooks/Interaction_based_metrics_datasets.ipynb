{
 "cells": [
  {
   "cell_type": "code",
   "execution_count": 2,
   "metadata": {},
   "outputs": [],
   "source": [
    "import pandas as pd\n",
    "import seaborn as sns\n",
    "\n",
    "from pathlib import Path\n",
    "import sys\n",
    "\n",
    "src_path = Path.cwd().parent / \"src\"\n",
    "if src_path not in sys.path:\n",
    "    sys.path.append(str(src_path))"
   ]
  },
  {
   "cell_type": "markdown",
   "metadata": {},
   "source": [
    "# Loading a dataset"
   ]
  },
  {
   "cell_type": "code",
   "execution_count": 3,
   "metadata": {},
   "outputs": [
    {
     "data": {
      "application/vnd.microsoft.datawrangler.viewer.v0+json": {
       "columns": [
        {
         "name": "index",
         "rawType": "int64",
         "type": "integer"
        },
        {
         "name": "index",
         "rawType": "object",
         "type": "string"
        },
        {
         "name": "nb_events",
         "rawType": "float64",
         "type": "float"
        },
        {
         "name": "max_event",
         "rawType": "float64",
         "type": "float"
        },
        {
         "name": "max_event_time",
         "rawType": "float64",
         "type": "float"
        },
        {
         "name": "max_distance",
         "rawType": "float64",
         "type": "float"
        },
        {
         "name": "final_event",
         "rawType": "object",
         "type": "unknown"
        },
        {
         "name": "final_event_time",
         "rawType": "object",
         "type": "unknown"
        },
        {
         "name": "nb_significant_events",
         "rawType": "float64",
         "type": "float"
        },
        {
         "name": "significant_ratio",
         "rawType": "float64",
         "type": "float"
        },
        {
         "name": "first_significant_event",
         "rawType": "float64",
         "type": "float"
        },
        {
         "name": "first_significant_event_time",
         "rawType": "float64",
         "type": "float"
        },
        {
         "name": "aha_moment",
         "rawType": "float64",
         "type": "float"
        },
        {
         "name": "aha_moment_time",
         "rawType": "float64",
         "type": "float"
        },
        {
         "name": "aha_moment_first",
         "rawType": "bool",
         "type": "boolean"
        },
        {
         "name": "insight_effect",
         "rawType": "float64",
         "type": "float"
        },
        {
         "name": "insight_effect_log",
         "rawType": "float64",
         "type": "float"
        },
        {
         "name": "cumulated_breaks_duration",
         "rawType": "float64",
         "type": "float"
        },
        {
         "name": "chamber_time",
         "rawType": "float64",
         "type": "float"
        },
        {
         "name": "chamber_ratio",
         "rawType": "float64",
         "type": "float"
        },
        {
         "name": "pushed",
         "rawType": "float64",
         "type": "float"
        },
        {
         "name": "pulled",
         "rawType": "float64",
         "type": "float"
        },
        {
         "name": "pulling_ratio",
         "rawType": "float64",
         "type": "float"
        },
        {
         "name": "success_direction",
         "rawType": "object",
         "type": "unknown"
        },
        {
         "name": "interaction_proportion",
         "rawType": "float64",
         "type": "float"
        },
        {
         "name": "interaction_persistence",
         "rawType": "float64",
         "type": "float"
        },
        {
         "name": "distance_moved",
         "rawType": "float64",
         "type": "float"
        },
        {
         "name": "distance_ratio",
         "rawType": "float64",
         "type": "float"
        },
        {
         "name": "exit_time",
         "rawType": "object",
         "type": "unknown"
        },
        {
         "name": "chamber_exit_time",
         "rawType": "float64",
         "type": "float"
        },
        {
         "name": "number_of_pauses",
         "rawType": "float64",
         "type": "float"
        },
        {
         "name": "total_pause_duration",
         "rawType": "float64",
         "type": "float"
        },
        {
         "name": "learning_slope",
         "rawType": "float64",
         "type": "float"
        },
        {
         "name": "learning_slope_r2",
         "rawType": "float64",
         "type": "float"
        },
        {
         "name": "logistic_L",
         "rawType": "float64",
         "type": "float"
        },
        {
         "name": "logistic_k",
         "rawType": "float64",
         "type": "float"
        },
        {
         "name": "logistic_t0",
         "rawType": "float64",
         "type": "float"
        },
        {
         "name": "logistic_r2",
         "rawType": "float64",
         "type": "float"
        },
        {
         "name": "avg_displacement_after_success",
         "rawType": "float64",
         "type": "float"
        },
        {
         "name": "avg_displacement_after_failure",
         "rawType": "float64",
         "type": "float"
        },
        {
         "name": "influence_ratio",
         "rawType": "float64",
         "type": "float"
        },
        {
         "name": "normalized_velocity",
         "rawType": "float64",
         "type": "float"
        },
        {
         "name": "velocity_during_interactions",
         "rawType": "float64",
         "type": "float"
        },
        {
         "name": "velocity_trend",
         "rawType": "float64",
         "type": "float"
        },
        {
         "name": "fly",
         "rawType": "object",
         "type": "string"
        },
        {
         "name": "flypath",
         "rawType": "object",
         "type": "string"
        },
        {
         "name": "experiment",
         "rawType": "object",
         "type": "string"
        },
        {
         "name": "Nickname",
         "rawType": "object",
         "type": "string"
        },
        {
         "name": "Brain region",
         "rawType": "object",
         "type": "string"
        },
        {
         "name": "Simplified Nickname",
         "rawType": "object",
         "type": "string"
        },
        {
         "name": "Split",
         "rawType": "object",
         "type": "string"
        },
        {
         "name": "Date",
         "rawType": "object",
         "type": "string"
        },
        {
         "name": "Genotype",
         "rawType": "object",
         "type": "string"
        },
        {
         "name": "Period",
         "rawType": "object",
         "type": "string"
        },
        {
         "name": "FeedingState",
         "rawType": "object",
         "type": "string"
        },
        {
         "name": "Orientation",
         "rawType": "object",
         "type": "string"
        },
        {
         "name": "Light",
         "rawType": "object",
         "type": "string"
        },
        {
         "name": "Crossing",
         "rawType": "object",
         "type": "string"
        },
        {
         "name": "BallType",
         "rawType": "object",
         "type": "string"
        },
        {
         "name": "Used_to ",
         "rawType": "category",
         "type": "unknown"
        },
        {
         "name": "Magnet",
         "rawType": "category",
         "type": "unknown"
        },
        {
         "name": "Peak",
         "rawType": "category",
         "type": "unknown"
        }
       ],
       "conversionMethod": "pd.DataFrame",
       "ref": "a59023b7-a08f-4b62-8ed5-5f5c065a0d01",
       "rows": [
        [
         "0",
         "fly_0_ball_0",
         "27.314578988341804",
         "27.0",
         "1184.7586206896551",
         "95.36015903095465",
         null,
         null,
         "8.0",
         "0.08163265306122448",
         "17.0",
         "977.2758620689655",
         "16.0",
         "962.3103448275862",
         "False",
         null,
         null,
         "85655.0",
         "1406.9655172413793",
         "0.39081626788758833",
         "5.0",
         "3.0",
         "0.375",
         "both",
         "0.17956552556464436",
         "6.596410978184377",
         "183.8868625874547",
         "1.9283405612585396",
         null,
         "12.241379310344827",
         "130.0",
         "549.8275862068969",
         "-0.010943946291642703",
         "0.10229440336490159",
         "740408.6420505622",
         "-4.0434647399623005e-05",
         "-191875.0382288183",
         "0.11113144755641458",
         "1.0948802523802312",
         "1.966615736434222",
         "0.5567331899649182",
         "0.3287146298286514",
         "2.9839709794036575",
         "0.0007279829294985676",
         "240718_Afternoon_FeedingState_next_Videos_Tracked_arena2_corridor5",
         "/mnt/upramdya_data/MD/MultiMazeRecorder/Videos/240718_Afternoon_FeedingState_next_Videos_Tracked/arena2/corridor5",
         "240718_Afternoon_FeedingState_next_Videos_Tracked",
         "PR",
         "Control",
         "PR",
         "m",
         "",
         "",
         "",
         "",
         "",
         "",
         "",
         "",
         "",
         "",
         null
        ],
        [
         "1",
         "fly_0_ball_0",
         "1.3896875599003258",
         null,
         null,
         "41.29863498053229",
         null,
         null,
         "0.0",
         "0.0",
         null,
         null,
         null,
         null,
         "False",
         null,
         null,
         "104156.0",
         "2583.5862068965516",
         "0.7176490871822379",
         "0.0",
         "0.0",
         null,
         "push",
         "0.0023562766996800826",
         "1.6965517241379309",
         "0.02635774453222782",
         "0.0006382231409016923",
         null,
         "2.1379310344827585",
         "156.0",
         "757.1379310344828",
         "-0.005305868360511413",
         "0.20516215610254784",
         "261.7683935237136",
         "-0.003991133369920444",
         "3911.421493552406",
         "0.7964507036420415",
         null,
         "0.004064652916216652",
         null,
         "5.957080342416246",
         "6.5798751295550595",
         "0.00046807647295054683",
         "240718_Afternoon_FeedingState_next_Videos_Tracked_arena2_corridor1",
         "/mnt/upramdya_data/MD/MultiMazeRecorder/Videos/240718_Afternoon_FeedingState_next_Videos_Tracked/arena2/corridor1",
         "240718_Afternoon_FeedingState_next_Videos_Tracked",
         "PR",
         "Control",
         "PR",
         "m",
         "",
         "",
         "",
         "",
         "",
         "",
         "",
         "",
         "",
         "",
         null
        ],
        [
         "2",
         "fly_0_ball_0",
         "14.224436408401939",
         "23.0",
         "1295.793103448276",
         "115.38114134787565",
         null,
         null,
         "5.0",
         "0.09803921568627451",
         "7.0",
         "448.48275862068965",
         "16.0",
         "1061.344827586207",
         "False",
         null,
         null,
         "96586.0",
         "883.8965517241379",
         "0.24552211643455105",
         "4.0",
         "1.0",
         "0.2",
         "push",
         "0.07486446619796555",
         "5.284651791751185",
         "138.9081049908208",
         "1.2039064908537438",
         null,
         "14.689655172413794",
         "82.0",
         "544.7586206896552",
         "-0.02804221574290387",
         "0.44699114066915613",
         "6086664.698875185",
         "-0.00014268156679445024",
         "-69963.06109410083",
         "0.5004988786168616",
         "2.6443060097101427",
         "2.773439559120383",
         "0.9534392054856259",
         "2.879331443362961",
         "3.247888131557969",
         "0.0011616197537755745",
         "240718_Afternoon_FeedingState_next_Videos_Tracked_arena2_corridor4",
         "/mnt/upramdya_data/MD/MultiMazeRecorder/Videos/240718_Afternoon_FeedingState_next_Videos_Tracked/arena2/corridor4",
         "240718_Afternoon_FeedingState_next_Videos_Tracked",
         "PR",
         "Control",
         "PR",
         "m",
         "",
         "",
         "",
         "",
         "",
         "",
         "",
         "",
         "",
         "",
         null
        ],
        [
         "3",
         "fly_0_ball_0",
         "1.9553825999845882",
         "0.0",
         "9.03448275862069",
         "14.427182557501503",
         null,
         null,
         "1.0",
         "0.14285714285714285",
         "0.0",
         "9.03448275862069",
         null,
         null,
         "False",
         null,
         null,
         "99513.0",
         "2279.0689655172414",
         "0.6330625850079501",
         "1.0",
         "0.0",
         "0.0",
         null,
         "0.046828604815999694",
         "24.083743842364534",
         "12.101205751399288",
         "0.8387781677516232",
         null,
         "20.20689655172414",
         "142.0",
         "845.862068965517",
         "-0.00024901370395698604",
         "0.03972881174703757",
         "1042.0131511223321",
         "-2.490971850952421e-06",
         "-846860.5259727109",
         "0.039802805516162",
         "1.182217688761879",
         "0.026422704113525004",
         "44.74249432164426",
         "1.8185968700616015",
         "1.2312090173890422",
         "0.0010514780807521502",
         "240718_Afternoon_FeedingState_next_Videos_Tracked_arena2_corridor2",
         "/mnt/upramdya_data/MD/MultiMazeRecorder/Videos/240718_Afternoon_FeedingState_next_Videos_Tracked/arena2/corridor2",
         "240718_Afternoon_FeedingState_next_Videos_Tracked",
         "PR",
         "Control",
         "PR",
         "m",
         "",
         "",
         "",
         "",
         "",
         "",
         "",
         "",
         "",
         "",
         null
        ],
        [
         "4",
         "fly_0_ball_0",
         "8.363856603120583",
         "15.0",
         "2714.793103448276",
         "18.319380268093866",
         null,
         null,
         "1.0",
         "0.03333333333333333",
         "18.0",
         "2815.793103448276",
         null,
         null,
         "False",
         null,
         null,
         "99083.0",
         "546.1724137931035",
         "0.15171165303346681",
         "1.0",
         "0.0",
         "0.0",
         null,
         "0.050947299860155934",
         "6.113793103448275",
         "25.56748558302696",
         "1.395652320594973",
         null,
         "13.206896551724139",
         "63.0",
         "343.9310344827588",
         "0.0013478477376525346",
         "0.12399209361210772",
         "124.1125184378956",
         "0.0001763710273153348",
         "-13251.902182741544",
         "0.12530742834611075",
         "1.1245401921059361",
         "0.8726335146114975",
         "1.2886740805578494",
         "105.8280876670477",
         "3.0056680025624023",
         "-0.0014363313598683045",
         "240718_Afternoon_FeedingState_next_Videos_Tracked_arena2_corridor6",
         "/mnt/upramdya_data/MD/MultiMazeRecorder/Videos/240718_Afternoon_FeedingState_next_Videos_Tracked/arena2/corridor6",
         "240718_Afternoon_FeedingState_next_Videos_Tracked",
         "PR",
         "Control",
         "PR",
         "m",
         "",
         "",
         "",
         "",
         "",
         "",
         "",
         "",
         "",
         "",
         null
        ]
       ],
       "shape": {
        "columns": 61,
        "rows": 5
       }
      },
      "text/html": [
       "<div>\n",
       "<style scoped>\n",
       "    .dataframe tbody tr th:only-of-type {\n",
       "        vertical-align: middle;\n",
       "    }\n",
       "\n",
       "    .dataframe tbody tr th {\n",
       "        vertical-align: top;\n",
       "    }\n",
       "\n",
       "    .dataframe thead th {\n",
       "        text-align: right;\n",
       "    }\n",
       "</style>\n",
       "<table border=\"1\" class=\"dataframe\">\n",
       "  <thead>\n",
       "    <tr style=\"text-align: right;\">\n",
       "      <th></th>\n",
       "      <th>index</th>\n",
       "      <th>nb_events</th>\n",
       "      <th>max_event</th>\n",
       "      <th>max_event_time</th>\n",
       "      <th>max_distance</th>\n",
       "      <th>final_event</th>\n",
       "      <th>final_event_time</th>\n",
       "      <th>nb_significant_events</th>\n",
       "      <th>significant_ratio</th>\n",
       "      <th>first_significant_event</th>\n",
       "      <th>...</th>\n",
       "      <th>Genotype</th>\n",
       "      <th>Period</th>\n",
       "      <th>FeedingState</th>\n",
       "      <th>Orientation</th>\n",
       "      <th>Light</th>\n",
       "      <th>Crossing</th>\n",
       "      <th>BallType</th>\n",
       "      <th>Used_to</th>\n",
       "      <th>Magnet</th>\n",
       "      <th>Peak</th>\n",
       "    </tr>\n",
       "  </thead>\n",
       "  <tbody>\n",
       "    <tr>\n",
       "      <th>0</th>\n",
       "      <td>fly_0_ball_0</td>\n",
       "      <td>27.314579</td>\n",
       "      <td>27.0</td>\n",
       "      <td>1184.758621</td>\n",
       "      <td>95.360159</td>\n",
       "      <td>None</td>\n",
       "      <td>None</td>\n",
       "      <td>8.0</td>\n",
       "      <td>0.081633</td>\n",
       "      <td>17.0</td>\n",
       "      <td>...</td>\n",
       "      <td></td>\n",
       "      <td></td>\n",
       "      <td></td>\n",
       "      <td></td>\n",
       "      <td></td>\n",
       "      <td></td>\n",
       "      <td></td>\n",
       "      <td></td>\n",
       "      <td></td>\n",
       "      <td>NaN</td>\n",
       "    </tr>\n",
       "    <tr>\n",
       "      <th>1</th>\n",
       "      <td>fly_0_ball_0</td>\n",
       "      <td>1.389688</td>\n",
       "      <td>NaN</td>\n",
       "      <td>NaN</td>\n",
       "      <td>41.298635</td>\n",
       "      <td>None</td>\n",
       "      <td>None</td>\n",
       "      <td>0.0</td>\n",
       "      <td>0.000000</td>\n",
       "      <td>NaN</td>\n",
       "      <td>...</td>\n",
       "      <td></td>\n",
       "      <td></td>\n",
       "      <td></td>\n",
       "      <td></td>\n",
       "      <td></td>\n",
       "      <td></td>\n",
       "      <td></td>\n",
       "      <td></td>\n",
       "      <td></td>\n",
       "      <td>NaN</td>\n",
       "    </tr>\n",
       "    <tr>\n",
       "      <th>2</th>\n",
       "      <td>fly_0_ball_0</td>\n",
       "      <td>14.224436</td>\n",
       "      <td>23.0</td>\n",
       "      <td>1295.793103</td>\n",
       "      <td>115.381141</td>\n",
       "      <td>None</td>\n",
       "      <td>None</td>\n",
       "      <td>5.0</td>\n",
       "      <td>0.098039</td>\n",
       "      <td>7.0</td>\n",
       "      <td>...</td>\n",
       "      <td></td>\n",
       "      <td></td>\n",
       "      <td></td>\n",
       "      <td></td>\n",
       "      <td></td>\n",
       "      <td></td>\n",
       "      <td></td>\n",
       "      <td></td>\n",
       "      <td></td>\n",
       "      <td>NaN</td>\n",
       "    </tr>\n",
       "    <tr>\n",
       "      <th>3</th>\n",
       "      <td>fly_0_ball_0</td>\n",
       "      <td>1.955383</td>\n",
       "      <td>0.0</td>\n",
       "      <td>9.034483</td>\n",
       "      <td>14.427183</td>\n",
       "      <td>None</td>\n",
       "      <td>None</td>\n",
       "      <td>1.0</td>\n",
       "      <td>0.142857</td>\n",
       "      <td>0.0</td>\n",
       "      <td>...</td>\n",
       "      <td></td>\n",
       "      <td></td>\n",
       "      <td></td>\n",
       "      <td></td>\n",
       "      <td></td>\n",
       "      <td></td>\n",
       "      <td></td>\n",
       "      <td></td>\n",
       "      <td></td>\n",
       "      <td>NaN</td>\n",
       "    </tr>\n",
       "    <tr>\n",
       "      <th>4</th>\n",
       "      <td>fly_0_ball_0</td>\n",
       "      <td>8.363857</td>\n",
       "      <td>15.0</td>\n",
       "      <td>2714.793103</td>\n",
       "      <td>18.319380</td>\n",
       "      <td>None</td>\n",
       "      <td>None</td>\n",
       "      <td>1.0</td>\n",
       "      <td>0.033333</td>\n",
       "      <td>18.0</td>\n",
       "      <td>...</td>\n",
       "      <td></td>\n",
       "      <td></td>\n",
       "      <td></td>\n",
       "      <td></td>\n",
       "      <td></td>\n",
       "      <td></td>\n",
       "      <td></td>\n",
       "      <td></td>\n",
       "      <td></td>\n",
       "      <td>NaN</td>\n",
       "    </tr>\n",
       "  </tbody>\n",
       "</table>\n",
       "<p>5 rows × 61 columns</p>\n",
       "</div>"
      ],
      "text/plain": [
       "          index  nb_events  max_event  max_event_time  max_distance  \\\n",
       "0  fly_0_ball_0  27.314579       27.0     1184.758621     95.360159   \n",
       "1  fly_0_ball_0   1.389688        NaN             NaN     41.298635   \n",
       "2  fly_0_ball_0  14.224436       23.0     1295.793103    115.381141   \n",
       "3  fly_0_ball_0   1.955383        0.0        9.034483     14.427183   \n",
       "4  fly_0_ball_0   8.363857       15.0     2714.793103     18.319380   \n",
       "\n",
       "  final_event final_event_time  nb_significant_events  significant_ratio  \\\n",
       "0        None             None                    8.0           0.081633   \n",
       "1        None             None                    0.0           0.000000   \n",
       "2        None             None                    5.0           0.098039   \n",
       "3        None             None                    1.0           0.142857   \n",
       "4        None             None                    1.0           0.033333   \n",
       "\n",
       "   first_significant_event  ...  Genotype  Period  FeedingState  Orientation  \\\n",
       "0                     17.0  ...                                                \n",
       "1                      NaN  ...                                                \n",
       "2                      7.0  ...                                                \n",
       "3                      0.0  ...                                                \n",
       "4                     18.0  ...                                                \n",
       "\n",
       "   Light  Crossing  BallType  Used_to   Magnet  Peak  \n",
       "0                                                NaN  \n",
       "1                                                NaN  \n",
       "2                                                NaN  \n",
       "3                                                NaN  \n",
       "4                                                NaN  \n",
       "\n",
       "[5 rows x 61 columns]"
      ]
     },
     "execution_count": 3,
     "metadata": {},
     "output_type": "execute_result"
    }
   ],
   "source": [
    "summary_data = pd.read_feather(\"/mnt/upramdya_data/MD/Ballpushing_Exploration/Datasets/250403_BallpushingMetrics_Data/summary/250403_pooled_summary.feather\")\n",
    "\n",
    "summary_data.head()"
   ]
  },
  {
   "cell_type": "markdown",
   "metadata": {},
   "source": [
    "Check some overarching statistics about the data"
   ]
  },
  {
   "cell_type": "code",
   "execution_count": 5,
   "metadata": {},
   "outputs": [
    {
     "data": {
      "text/plain": [
       "430"
      ]
     },
     "execution_count": 5,
     "metadata": {},
     "output_type": "execute_result"
    }
   ],
   "source": [
    "# Compute how many unique fly IDs are in each group\n",
    "\n",
    "len(summary_data[\"fly\"].unique())"
   ]
  }
 ],
 "metadata": {
  "kernelspec": {
   "display_name": "tracking_analysis",
   "language": "python",
   "name": "python3"
  },
  "language_info": {
   "codemirror_mode": {
    "name": "ipython",
    "version": 3
   },
   "file_extension": ".py",
   "mimetype": "text/x-python",
   "name": "python",
   "nbconvert_exporter": "python",
   "pygments_lexer": "ipython3",
   "version": "3.12.6"
  }
 },
 "nbformat": 4,
 "nbformat_minor": 2
}
